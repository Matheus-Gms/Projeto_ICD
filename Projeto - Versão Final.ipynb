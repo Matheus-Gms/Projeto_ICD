{
 "cells": [
  {
   "cell_type": "markdown",
   "metadata": {},
   "source": [
    "# Análise dos Principais Times do Brasileirão"
   ]
  },
  {
   "cell_type": "markdown",
   "metadata": {},
   "source": [
    "### Integrantes:\n",
    "- Esdras Santana de Lima\n",
    "- Matheus Gomes da Silva\n",
    "- Thiago Vanucci Corrêa de Araújo"
   ]
  },
  {
   "cell_type": "markdown",
   "metadata": {},
   "source": [
    "## Introdução"
   ]
  },
  {
   "cell_type": "markdown",
   "metadata": {},
   "source": [
    "Este projeto consiste em um relatório utilizando análises feitas a partir de um conjunto de dados que contém informações sobre times de futebol brasileiro entre os anos de 2015 à 2019. Os dados foram coletados através do site da Confederação Brasileira de Futebol, e foi examinado por meio de ferramentas de análise de dados de algumas bibliotecas do Python.\n",
    "\n",
    "Segundo o SPC Brasil, 67,4% dos brasileiros dizem se interessar muito pelo futebol, isto é, milhões de brasileiros são apaixonados por algum time de futebol. Nesse esporte coletivo e apaixonante surgem diversas rivalidades, sejam elas estaduais, regionais, e até mesmo nacionais. Os torcedores desses clubes constatementes estão discutindo sobre quem é o melhor, quem fez mais gols, ou até mesmo, qual clube venceu mais.\n",
    "\n",
    "O nosso estudo tem como objetivo analisar os dados á fim de responder algumas dessas perguntas, sendo totalmente imparcial e visando apenas informar o público, foram utilizados gráficos de barras e de dispersão para visualização dos dados, visando tornar mais fácil a compreensão das respostas e das informações prestadas."
   ]
  },
  {
   "cell_type": "markdown",
   "metadata": {},
   "source": [
    "## Dados usados"
   ]
  },
  {
   "cell_type": "markdown",
   "metadata": {},
   "source": [
    "Para o desenvolvimento do projeto foi necessário a elaboração do dataset com os principais times do brasileirão, visto que não foi encontrado um único dataset com os dados essenciais para o projeto. \n",
    "Com isso, fez-se necessário a coleta dos dados de cada time, pertecentes as séries A, B, C e D, no período dos últimos 5 anos (2015 a 2019), onde todos os dados foram coletados diretamente do site da [CBF](https://www.cbf.com.br/futebol-brasileiro/competicoes/campeonato-brasileiro-serie-c), assim sendo criado o seguinte dataset."
   ]
  },
  {
   "cell_type": "code",
   "execution_count": 10,
   "metadata": {},
   "outputs": [],
   "source": [
    "import pandas as pd"
   ]
  },
  {
   "cell_type": "code",
   "execution_count": 11,
   "metadata": {},
   "outputs": [
    {
     "data": {
      "text/html": [
       "<div>\n",
       "<style scoped>\n",
       "    .dataframe tbody tr th:only-of-type {\n",
       "        vertical-align: middle;\n",
       "    }\n",
       "\n",
       "    .dataframe tbody tr th {\n",
       "        vertical-align: top;\n",
       "    }\n",
       "\n",
       "    .dataframe thead th {\n",
       "        text-align: right;\n",
       "    }\n",
       "</style>\n",
       "<table border=\"1\" class=\"dataframe\">\n",
       "  <thead>\n",
       "    <tr style=\"text-align: right;\">\n",
       "      <th></th>\n",
       "      <th>TIMES</th>\n",
       "      <th>REGIÃO</th>\n",
       "      <th>ANO</th>\n",
       "      <th>SÉRIE</th>\n",
       "      <th>PTS</th>\n",
       "      <th>J</th>\n",
       "      <th>V</th>\n",
       "      <th>E</th>\n",
       "      <th>D</th>\n",
       "      <th>GP</th>\n",
       "      <th>GC</th>\n",
       "      <th>SG</th>\n",
       "      <th>CA</th>\n",
       "      <th>CV</th>\n",
       "    </tr>\n",
       "  </thead>\n",
       "  <tbody>\n",
       "    <tr>\n",
       "      <th>0</th>\n",
       "      <td>Abc</td>\n",
       "      <td>Nordeste</td>\n",
       "      <td>2019</td>\n",
       "      <td>C</td>\n",
       "      <td>18</td>\n",
       "      <td>18</td>\n",
       "      <td>4</td>\n",
       "      <td>6</td>\n",
       "      <td>8</td>\n",
       "      <td>19</td>\n",
       "      <td>22</td>\n",
       "      <td>-3</td>\n",
       "      <td>55</td>\n",
       "      <td>2</td>\n",
       "    </tr>\n",
       "    <tr>\n",
       "      <th>1</th>\n",
       "      <td>América - MG</td>\n",
       "      <td>Sudeste</td>\n",
       "      <td>2019</td>\n",
       "      <td>B</td>\n",
       "      <td>61</td>\n",
       "      <td>38</td>\n",
       "      <td>17</td>\n",
       "      <td>10</td>\n",
       "      <td>11</td>\n",
       "      <td>42</td>\n",
       "      <td>34</td>\n",
       "      <td>8</td>\n",
       "      <td>77</td>\n",
       "      <td>1</td>\n",
       "    </tr>\n",
       "    <tr>\n",
       "      <th>2</th>\n",
       "      <td>América Natal</td>\n",
       "      <td>Nordeste</td>\n",
       "      <td>2019</td>\n",
       "      <td>D</td>\n",
       "      <td>14</td>\n",
       "      <td>6</td>\n",
       "      <td>4</td>\n",
       "      <td>2</td>\n",
       "      <td>0</td>\n",
       "      <td>20</td>\n",
       "      <td>1</td>\n",
       "      <td>19</td>\n",
       "      <td>18</td>\n",
       "      <td>0</td>\n",
       "    </tr>\n",
       "    <tr>\n",
       "      <th>3</th>\n",
       "      <td>Asa</td>\n",
       "      <td>Nordeste</td>\n",
       "      <td>2019</td>\n",
       "      <td>D</td>\n",
       "      <td>13</td>\n",
       "      <td>6</td>\n",
       "      <td>4</td>\n",
       "      <td>1</td>\n",
       "      <td>1</td>\n",
       "      <td>8</td>\n",
       "      <td>5</td>\n",
       "      <td>1</td>\n",
       "      <td>15</td>\n",
       "      <td>1</td>\n",
       "    </tr>\n",
       "    <tr>\n",
       "      <th>4</th>\n",
       "      <td>Atlético - GO</td>\n",
       "      <td>Centro-Oeste</td>\n",
       "      <td>2019</td>\n",
       "      <td>B</td>\n",
       "      <td>62</td>\n",
       "      <td>38</td>\n",
       "      <td>15</td>\n",
       "      <td>17</td>\n",
       "      <td>6</td>\n",
       "      <td>44</td>\n",
       "      <td>29</td>\n",
       "      <td>15</td>\n",
       "      <td>94</td>\n",
       "      <td>4</td>\n",
       "    </tr>\n",
       "    <tr>\n",
       "      <th>...</th>\n",
       "      <td>...</td>\n",
       "      <td>...</td>\n",
       "      <td>...</td>\n",
       "      <td>...</td>\n",
       "      <td>...</td>\n",
       "      <td>...</td>\n",
       "      <td>...</td>\n",
       "      <td>...</td>\n",
       "      <td>...</td>\n",
       "      <td>...</td>\n",
       "      <td>...</td>\n",
       "      <td>...</td>\n",
       "      <td>...</td>\n",
       "      <td>...</td>\n",
       "    </tr>\n",
       "    <tr>\n",
       "      <th>290</th>\n",
       "      <td>Sport</td>\n",
       "      <td>Nordeste</td>\n",
       "      <td>2015</td>\n",
       "      <td>A</td>\n",
       "      <td>59</td>\n",
       "      <td>38</td>\n",
       "      <td>15</td>\n",
       "      <td>14</td>\n",
       "      <td>9</td>\n",
       "      <td>53</td>\n",
       "      <td>38</td>\n",
       "      <td>15</td>\n",
       "      <td>72</td>\n",
       "      <td>2</td>\n",
       "    </tr>\n",
       "    <tr>\n",
       "      <th>291</th>\n",
       "      <td>Treze</td>\n",
       "      <td>Nordeste</td>\n",
       "      <td>2015</td>\n",
       "      <td>D</td>\n",
       "      <td>15</td>\n",
       "      <td>8</td>\n",
       "      <td>4</td>\n",
       "      <td>3</td>\n",
       "      <td>1</td>\n",
       "      <td>11</td>\n",
       "      <td>5</td>\n",
       "      <td>6</td>\n",
       "      <td>15</td>\n",
       "      <td>4</td>\n",
       "    </tr>\n",
       "    <tr>\n",
       "      <th>292</th>\n",
       "      <td>Vasco</td>\n",
       "      <td>Sudeste</td>\n",
       "      <td>2015</td>\n",
       "      <td>A</td>\n",
       "      <td>41</td>\n",
       "      <td>38</td>\n",
       "      <td>10</td>\n",
       "      <td>11</td>\n",
       "      <td>17</td>\n",
       "      <td>28</td>\n",
       "      <td>54</td>\n",
       "      <td>-26</td>\n",
       "      <td>108</td>\n",
       "      <td>14</td>\n",
       "    </tr>\n",
       "    <tr>\n",
       "      <th>293</th>\n",
       "      <td>Vila Nova</td>\n",
       "      <td>Centro-Oeste</td>\n",
       "      <td>2015</td>\n",
       "      <td>C</td>\n",
       "      <td>44</td>\n",
       "      <td>24</td>\n",
       "      <td>13</td>\n",
       "      <td>5</td>\n",
       "      <td>6</td>\n",
       "      <td>31</td>\n",
       "      <td>16</td>\n",
       "      <td>15</td>\n",
       "      <td>69</td>\n",
       "      <td>4</td>\n",
       "    </tr>\n",
       "    <tr>\n",
       "      <th>294</th>\n",
       "      <td>Vitória</td>\n",
       "      <td>Nordeste</td>\n",
       "      <td>2015</td>\n",
       "      <td>B</td>\n",
       "      <td>66</td>\n",
       "      <td>38</td>\n",
       "      <td>19</td>\n",
       "      <td>9</td>\n",
       "      <td>10</td>\n",
       "      <td>58</td>\n",
       "      <td>40</td>\n",
       "      <td>18</td>\n",
       "      <td>106</td>\n",
       "      <td>8</td>\n",
       "    </tr>\n",
       "  </tbody>\n",
       "</table>\n",
       "<p>295 rows × 14 columns</p>\n",
       "</div>"
      ],
      "text/plain": [
       "             TIMES        REGIÃO   ANO SÉRIE  PTS   J   V   E   D  GP  GC  SG  \\\n",
       "0              Abc      Nordeste  2019     C   18  18   4   6   8  19  22  -3   \n",
       "1     América - MG       Sudeste  2019     B   61  38  17  10  11  42  34   8   \n",
       "2    América Natal      Nordeste  2019     D   14   6   4   2   0  20   1  19   \n",
       "3              Asa      Nordeste  2019     D   13   6   4   1   1   8   5   1   \n",
       "4    Atlético - GO  Centro-Oeste  2019     B   62  38  15  17   6  44  29  15   \n",
       "..             ...           ...   ...   ...  ...  ..  ..  ..  ..  ..  ..  ..   \n",
       "290          Sport      Nordeste  2015     A   59  38  15  14   9  53  38  15   \n",
       "291          Treze      Nordeste  2015     D   15   8   4   3   1  11   5   6   \n",
       "292          Vasco       Sudeste  2015     A   41  38  10  11  17  28  54 -26   \n",
       "293      Vila Nova  Centro-Oeste  2015     C   44  24  13   5   6  31  16  15   \n",
       "294        Vitória      Nordeste  2015     B   66  38  19   9  10  58  40  18   \n",
       "\n",
       "      CA  CV  \n",
       "0     55   2  \n",
       "1     77   1  \n",
       "2     18   0  \n",
       "3     15   1  \n",
       "4     94   4  \n",
       "..   ...  ..  \n",
       "290   72   2  \n",
       "291   15   4  \n",
       "292  108  14  \n",
       "293   69   4  \n",
       "294  106   8  \n",
       "\n",
       "[295 rows x 14 columns]"
      ]
     },
     "execution_count": 11,
     "metadata": {},
     "output_type": "execute_result"
    }
   ],
   "source": [
    "brasileirao_df = pd.read_csv(\"dataset/brasileirao_2015_2019.csv\")\n",
    "brasileirao_df"
   ]
  },
  {
   "cell_type": "markdown",
   "metadata": {},
   "source": [
    "### Exploração inicial"
   ]
  },
  {
   "cell_type": "markdown",
   "metadata": {},
   "source": [
    "Com o intuito de explorar os dados inicialmente, calculamos as medidas de centralidade e dispersão dos dados disponíveis no dataset, e para facilitar a visualização da distribuição dos dados, também foram criados os boxplots, como pode ser observado a seguir:"
   ]
  },
  {
   "cell_type": "markdown",
   "metadata": {},
   "source": [
    "#### Pontos (PTS)"
   ]
  },
  {
   "cell_type": "code",
   "execution_count": 12,
   "metadata": {},
   "outputs": [
    {
     "name": "stdout",
     "output_type": "stream",
     "text": [
      "Média dos Pontos:  37.08474576271186\n",
      "Moda dos Pontos:  0    0\n",
      "dtype: int64\n",
      "Mediana dos Pontos:  42.0\n",
      "Variância dos Pontos:  482.4791882854837\n",
      "Desvio Padrão dos Pontos:  21.96540890321607\n"
     ]
    },
    {
     "data": {
      "image/png": "[encoded data removed]",
      "text/plain": [
       "<Figure size 432x288 with 1 Axes>"
      ]
     },
     "metadata": {
      "needs_background": "light"
     },
     "output_type": "display_data"
    }
   ],
   "source": [
    "Media = brasileirao_df[\"PTS\"].mean()\n",
    "Moda = brasileirao_df[\"PTS\"].mode()\n",
    "Mediana = brasileirao_df[\"PTS\"].median()\n",
    "Var = brasileirao_df[\"PTS\"].var()\n",
    "DP = brasileirao_df[\"PTS\"].var()**0.5\n",
    "brasileirao_df.boxplot(column=\"PTS\")\n",
    "print (\"Média dos Pontos: \", Media)\n",
    "print (\"Moda dos Pontos: \", Moda)\n",
    "print (\"Mediana dos Pontos: \", Mediana)\n",
    "print (\"Variância dos Pontos: \", Var)\n",
    "print (\"Desvio Padrão dos Pontos: \", DP)"
   ]
  },
  {
   "cell_type": "markdown",
   "metadata": {},
   "source": [
    "#### Jogos (J)"
   ]
  },
  {
   "cell_type": "code",
   "execution_count": 13,
   "metadata": {},
   "outputs": [
    {
     "name": "stdout",
     "output_type": "stream",
     "text": [
      "Média dos Jogos:  26.535593220338985\n",
      "Moda dos Jogos:  0    38\n",
      "dtype: int64\n",
      "Mediana dos Jogos:  38.0\n",
      "Variância dos Jogos:  209.7937968407702\n",
      "Desvio Padrão dos Jogos:  14.484260313898332\n"
     ]
    },
    {
     "data": {
      "image/png": "[encoded data removed]",
      "text/plain": [
       "<Figure size 432x288 with 1 Axes>"
      ]
     },
     "metadata": {
      "needs_background": "light"
     },
     "output_type": "display_data"
    }
   ],
   "source": [
    "Media = brasileirao_df[\"J\"].mean()\n",
    "Moda = brasileirao_df[\"J\"].mode()\n",
    "Mediana = brasileirao_df[\"J\"].median()\n",
    "Var = brasileirao_df[\"J\"].var()\n",
    "DP = brasileirao_df[\"J\"].var()**0.5\n",
    "brasileirao_df.boxplot(column=\"J\")\n",
    "print (\"Média dos Jogos: \", Media)\n",
    "print (\"Moda dos Jogos: \", Moda)\n",
    "print (\"Mediana dos Jogos: \", Mediana)\n",
    "print (\"Variância dos Jogos: \", Var)\n",
    "print (\"Desvio Padrão dos Jogos: \", DP)"
   ]
  },
  {
   "cell_type": "markdown",
   "metadata": {},
   "source": [
    "#### Vitórias (V)"
   ]
  },
  {
   "cell_type": "code",
   "execution_count": 14,
   "metadata": {},
   "outputs": [
    {
     "name": "stdout",
     "output_type": "stream",
     "text": [
      "Média das Vitórias:  9.867796610169492\n",
      "Moda das Vitórias:  0    0\n",
      "dtype: int64\n",
      "Mediana das Vitórias:  10.0\n",
      "Variância das Vitórias:  39.42804104692725\n",
      "Desvio Padrão das Vitórias:  6.2791751884246105\n"
     ]
    },
    {
     "data": {
      "image/png": "[encoded data removed]",
      "text/plain": [
       "<Figure size 432x288 with 1 Axes>"
      ]
     },
     "metadata": {
      "needs_background": "light"
     },
     "output_type": "display_data"
    }
   ],
   "source": [
    "Media = brasileirao_df[\"V\"].mean()\n",
    "Moda = brasileirao_df[\"V\"].mode()\n",
    "Mediana = brasileirao_df[\"V\"].median()\n",
    "Var = brasileirao_df[\"V\"].var()\n",
    "DP = brasileirao_df[\"V\"].var()**0.5\n",
    "brasileirao_df.boxplot(column=\"V\")\n",
    "print (\"Média das Vitórias: \", Media)\n",
    "print (\"Moda das Vitórias: \", Moda)\n",
    "print (\"Mediana das Vitórias: \", Mediana)\n",
    "print (\"Variância das Vitórias: \", Var)\n",
    "print (\"Desvio Padrão das Vitórias: \", DP)"
   ]
  },
  {
   "cell_type": "markdown",
   "metadata": {},
   "source": [
    "#### Empates (E)"
   ]
  },
  {
   "cell_type": "code",
   "execution_count": 15,
   "metadata": {},
   "outputs": [
    {
     "name": "stdout",
     "output_type": "stream",
     "text": [
      "Média dos Empates:  7.501694915254237\n",
      "Moda dos Empates:  0    9\n",
      "dtype: int64\n",
      "Mediana dos Empates:  8.0\n",
      "Variância dos Empates:  20.41411276374957\n",
      "Desvio Padrão dos Empates:  4.518197955352285\n"
     ]
    },
    {
     "data": {
      "image/png": "[encoded data removed]",
      "text/plain": [
       "<Figure size 432x288 with 1 Axes>"
      ]
     },
     "metadata": {
      "needs_background": "light"
     },
     "output_type": "display_data"
    }
   ],
   "source": [
    "Media = brasileirao_df[\"E\"].mean()\n",
    "Moda = brasileirao_df[\"E\"].mode()\n",
    "Mediana = brasileirao_df[\"E\"].median()\n",
    "Var = brasileirao_df[\"E\"].var()\n",
    "DP = brasileirao_df[\"E\"].var()**0.5\n",
    "brasileirao_df.boxplot(column=\"E\")\n",
    "print (\"Média dos Empates: \", Media)\n",
    "print (\"Moda dos Empates: \", Moda)\n",
    "print (\"Mediana dos Empates: \", Mediana)\n",
    "print (\"Variância dos Empates: \", Var)\n",
    "print (\"Desvio Padrão dos Empates: \", DP)"
   ]
  },
  {
   "cell_type": "markdown",
   "metadata": {},
   "source": [
    "#### Derrotas (D)"
   ]
  },
  {
   "cell_type": "code",
   "execution_count": 16,
   "metadata": {},
   "outputs": [
    {
     "name": "stdout",
     "output_type": "stream",
     "text": [
      "Média das Derrotas:  9.166101694915254\n",
      "Moda das Derrotas:  0    0\n",
      "dtype: int64\n",
      "Mediana das Derrotas:  9.0\n",
      "Variância das Derrotas:  39.37027556785427\n",
      "Desvio Padrão das Derrotas:  6.274573735948464\n"
     ]
    },
    {
     "data": {
      "image/png": "[encoded data removed]",
      "text/plain": [
       "<Figure size 432x288 with 1 Axes>"
      ]
     },
     "metadata": {
      "needs_background": "light"
     },
     "output_type": "display_data"
    }
   ],
   "source": [
    "Media = brasileirao_df[\"D\"].mean()\n",
    "Moda = brasileirao_df[\"D\"].mode()\n",
    "Mediana = brasileirao_df[\"D\"].median()\n",
    "Var = brasileirao_df[\"D\"].var()\n",
    "DP = brasileirao_df[\"D\"].var()**0.5\n",
    "brasileirao_df.boxplot(column=\"D\")\n",
    "print (\"Média das Derrotas: \", Media)\n",
    "print (\"Moda das Derrotas: \", Moda)\n",
    "print (\"Mediana das Derrotas: \", Mediana)\n",
    "print (\"Variância das Derrotas: \", Var)\n",
    "print (\"Desvio Padrão das Derrotas: \", DP)"
   ]
  },
  {
   "cell_type": "markdown",
   "metadata": {},
   "source": [
    "#### Gols Pró (GP)"
   ]
  },
  {
   "cell_type": "code",
   "execution_count": 17,
   "metadata": {},
   "outputs": [
    {
     "name": "stdout",
     "output_type": "stream",
     "text": [
      "Média dos Gols Pró:  31.315254237288137\n",
      "Moda dos Gols Pró:  0    0\n",
      "dtype: int64\n",
      "Mediana dos Gols Pró:  34.0\n",
      "Variância dos Gols Pró:  336.7063991698374\n",
      "Desvio Padrão dos Gols Pró:  18.34956128003712\n"
     ]
    },
    {
     "data": {
      "image/png": "[encoded data removed]",
      "text/plain": [
       "<Figure size 432x288 with 1 Axes>"
      ]
     },
     "metadata": {
      "needs_background": "light"
     },
     "output_type": "display_data"
    }
   ],
   "source": [
    "Media = brasileirao_df[\"GP\"].mean()\n",
    "Moda = brasileirao_df[\"GP\"].mode()\n",
    "Mediana = brasileirao_df[\"GP\"].median()\n",
    "Var = brasileirao_df[\"GP\"].var()\n",
    "DP = brasileirao_df[\"GP\"].var()**0.5\n",
    "brasileirao_df.boxplot(column=\"GP\")\n",
    "print (\"Média dos Gols Pró: \", Media)\n",
    "print (\"Moda dos Gols Pró: \", Moda)\n",
    "print (\"Mediana dos Gols Pró: \", Mediana)\n",
    "print (\"Variância dos Gols Pró: \", Var)\n",
    "print (\"Desvio Padrão dos Gols Pró: \", DP)"
   ]
  },
  {
   "cell_type": "markdown",
   "metadata": {},
   "source": [
    "#### Gols Contra (GC)"
   ]
  },
  {
   "cell_type": "code",
   "execution_count": 18,
   "metadata": {},
   "outputs": [
    {
     "name": "stdout",
     "output_type": "stream",
     "text": [
      "Média dos Gols Contra:  29.915254237288135\n",
      "Moda dos Gols Contra:  0    0\n",
      "dtype: int64\n",
      "Mediana dos Gols Contra:  33.0\n",
      "Variância dos Gols Contra:  330.5268073331027\n",
      "Desvio Padrão dos Gols Contra:  18.180396236966416\n"
     ]
    },
    {
     "data": {
      "image/png": "[encoded data removed]",
      "text/plain": [
       "<Figure size 432x288 with 1 Axes>"
      ]
     },
     "metadata": {
      "needs_background": "light"
     },
     "output_type": "display_data"
    }
   ],
   "source": [
    "Media = brasileirao_df[\"GC\"].mean()\n",
    "Moda = brasileirao_df[\"GC\"].mode()\n",
    "Mediana = brasileirao_df[\"GC\"].median()\n",
    "Var = brasileirao_df[\"GC\"].var()\n",
    "DP = brasileirao_df[\"GC\"].var()**0.5\n",
    "brasileirao_df.boxplot(column=\"GC\")\n",
    "print (\"Média dos Gols Contra: \", Media)\n",
    "print (\"Moda dos Gols Contra: \", Moda)\n",
    "print (\"Mediana dos Gols Contra: \", Mediana)\n",
    "print (\"Variância dos Gols Contra: \", Var)\n",
    "print (\"Desvio Padrão dos Gols Contra: \", DP)"
   ]
  },
  {
   "cell_type": "markdown",
   "metadata": {},
   "source": [
    "#### Saldo de Gols (SG)"
   ]
  },
  {
   "cell_type": "code",
   "execution_count": 19,
   "metadata": {},
   "outputs": [
    {
     "name": "stdout",
     "output_type": "stream",
     "text": [
      "Média do Saldo de Gols:  1.4\n",
      "Moda do Saldo de Gols:  0    0\n",
      "dtype: int64\n",
      "Mediana do Saldo de Gols:  1.0\n",
      "Variância do Saldo de Gols:  156.3292517006803\n",
      "Desvio Padrão do Saldo de Gols:  12.50316966615587\n"
     ]
    },
    {
     "data": {
      "image/png": "[encoded data removed]",
      "text/plain": [
       "<Figure size 432x288 with 1 Axes>"
      ]
     },
     "metadata": {
      "needs_background": "light"
     },
     "output_type": "display_data"
    }
   ],
   "source": [
    "Media = brasileirao_df[\"SG\"].mean()\n",
    "Moda = brasileirao_df[\"SG\"].mode()\n",
    "Mediana = brasileirao_df[\"SG\"].median()\n",
    "Var = brasileirao_df[\"SG\"].var()\n",
    "DP = brasileirao_df[\"SG\"].var()**0.5\n",
    "brasileirao_df.boxplot(column=\"SG\")\n",
    "print (\"Média do Saldo de Gols: \", Media)\n",
    "print (\"Moda do Saldo de Gols: \", Moda)\n",
    "print (\"Mediana do Saldo de Gols: \", Mediana)\n",
    "print (\"Variância do Saldo de Gols: \", Var)\n",
    "print (\"Desvio Padrão do Saldo de Gols: \", DP)"
   ]
  },
  {
   "cell_type": "markdown",
   "metadata": {},
   "source": [
    "#### Cartões Amarelos (CA)"
   ]
  },
  {
   "cell_type": "code",
   "execution_count": 20,
   "metadata": {},
   "outputs": [
    {
     "name": "stdout",
     "output_type": "stream",
     "text": [
      "Média dos Cartões Amarelos:  63.735593220338984\n",
      "Moda dos Cartões Amarelos:  0    0\n",
      "dtype: int64\n",
      "Mediana dos Cartões Amarelos:  77.0\n",
      "Variância dos Cartões Amarelos:  1221.7189669087975\n",
      "Desvio Padrão dos Cartões Amarelos:  34.9530966712364\n"
     ]
    },
    {
     "data": {
      "image/png": "[encoded data removed]",
      "text/plain": [
       "<Figure size 432x288 with 1 Axes>"
      ]
     },
     "metadata": {
      "needs_background": "light"
     },
     "output_type": "display_data"
    }
   ],
   "source": [
    "Media = brasileirao_df[\"CA\"].mean()\n",
    "Moda = brasileirao_df[\"CA\"].mode()\n",
    "Mediana = brasileirao_df[\"CA\"].median()\n",
    "Var = brasileirao_df[\"CA\"].var()\n",
    "DP = brasileirao_df[\"CA\"].var()**0.5\n",
    "brasileirao_df.boxplot(column=\"CA\")\n",
    "print (\"Média dos Cartões Amarelos: \", Media)\n",
    "print (\"Moda dos Cartões Amarelos: \", Moda)\n",
    "print (\"Mediana dos Cartões Amarelos: \", Mediana)\n",
    "print (\"Variância dos Cartões Amarelos: \", Var)\n",
    "print (\"Desvio Padrão dos Cartões Amarelos: \", DP)"
   ]
  },
  {
   "cell_type": "markdown",
   "metadata": {},
   "source": [
    "#### Cartões Vermelhos (CV)"
   ]
  },
  {
   "cell_type": "code",
   "execution_count": 21,
   "metadata": {},
   "outputs": [
    {
     "name": "stdout",
     "output_type": "stream",
     "text": [
      "Média dos Cartões Vermelhos:  3.7796610169491527\n",
      "Moda dos Cartões Vermelhos:  0    2\n",
      "dtype: int64\n",
      "Mediana dos Cartões Vermelhos:  3.0\n",
      "Variância dos Cartões Vermelhos:  8.342442061570392\n",
      "Desvio Padrão dos Cartões Vermelhos:  2.88832859307427\n"
     ]
    },
    {
     "data": {
      "image/png": "[encoded data removed]",
      "text/plain": [
       "<Figure size 432x288 with 1 Axes>"
      ]
     },
     "metadata": {
      "needs_background": "light"
     },
     "output_type": "display_data"
    }
   ],
   "source": [
    "Media = brasileirao_df[\"CV\"].mean()\n",
    "Moda = brasileirao_df[\"CV\"].mode()\n",
    "Mediana = brasileirao_df[\"CV\"].median()\n",
    "Var = brasileirao_df[\"CV\"].var()\n",
    "DP = brasileirao_df[\"CV\"].var()**0.5\n",
    "brasileirao_df.boxplot(column=\"CV\")\n",
    "print (\"Média dos Cartões Vermelhos: \", Media)\n",
    "print (\"Moda dos Cartões Vermelhos: \", Moda)\n",
    "print (\"Mediana dos Cartões Vermelhos: \", Mediana)\n",
    "print (\"Variância dos Cartões Vermelhos: \", Var)\n",
    "print (\"Desvio Padrão dos Cartões Vermelhos: \", DP)"
   ]
  },
  {
   "cell_type": "markdown",
   "metadata": {},
   "source": [
    "## Pré-processamento"
   ]
  },
  {
   "cell_type": "markdown",
   "metadata": {},
   "source": [
    "Visto que foi necessário a elaboração do dataset, como explicado no inicio do notebook, pode-se dizer que todo o processo de limpeza e tratamento dos dados foram realizados durante a coleta do mesmo, como por exemplo: times que não apresentavam informações, em determinado ano, foram atribuídos valores 0 (zero)."
   ]
  },
  {
   "cell_type": "markdown",
   "metadata": {},
   "source": [
    "## Perguntas"
   ]
  },
  {
   "cell_type": "markdown",
   "metadata": {},
   "source": [
    "A partir do dataset criado foram elaboradas 4 (quatro) perguntas que podem ser analisadas a seguir:"
   ]
  },
  {
   "cell_type": "markdown",
   "metadata": {},
   "source": [
    "### Quais os 4 times, de cada região, que fizeram mais gols nos últimos 5 anos?"
   ]
  },
  {
   "cell_type": "markdown",
   "metadata": {},
   "source": [
    "Os times serão separados por suas respectivas regiões,mostrando um DataFrame por região com os 4 determinados times."
   ]
  },
  {
   "cell_type": "markdown",
   "metadata": {},
   "source": [
    "#### Região Nordeste"
   ]
  },
  {
   "cell_type": "code",
   "execution_count": 22,
   "metadata": {},
   "outputs": [
    {
     "data": {
      "text/html": [
       "<div>\n",
       "<style scoped>\n",
       "    .dataframe tbody tr th:only-of-type {\n",
       "        vertical-align: middle;\n",
       "    }\n",
       "\n",
       "    .dataframe tbody tr th {\n",
       "        vertical-align: top;\n",
       "    }\n",
       "\n",
       "    .dataframe thead th {\n",
       "        text-align: right;\n",
       "    }\n",
       "</style>\n",
       "<table border=\"1\" class=\"dataframe\">\n",
       "  <thead>\n",
       "    <tr style=\"text-align: right;\">\n",
       "      <th></th>\n",
       "      <th>TIMES</th>\n",
       "      <th>GP</th>\n",
       "    </tr>\n",
       "  </thead>\n",
       "  <tbody>\n",
       "    <tr>\n",
       "      <th>3</th>\n",
       "      <td>Bahia</td>\n",
       "      <td>238</td>\n",
       "    </tr>\n",
       "    <tr>\n",
       "      <th>24</th>\n",
       "      <td>Vitória</td>\n",
       "      <td>237</td>\n",
       "    </tr>\n",
       "    <tr>\n",
       "      <th>22</th>\n",
       "      <td>Sport</td>\n",
       "      <td>232</td>\n",
       "    </tr>\n",
       "    <tr>\n",
       "      <th>5</th>\n",
       "      <td>CRB</td>\n",
       "      <td>218</td>\n",
       "    </tr>\n",
       "  </tbody>\n",
       "</table>\n",
       "</div>"
      ],
      "text/plain": [
       "      TIMES   GP\n",
       "3     Bahia  238\n",
       "24  Vitória  237\n",
       "22    Sport  232\n",
       "5       CRB  218"
      ]
     },
     "execution_count": 22,
     "metadata": {},
     "output_type": "execute_result"
    }
   ],
   "source": [
    "nordeste= brasileirao_df[brasileirao_df.REGIÃO == \"Nordeste\"]\n",
    "group_nordeste= nordeste.groupby(\"TIMES\").sum().reset_index()\n",
    "teams_nor = group_nordeste.sort_values(by=\"GP\",ascending= False)[[\"TIMES\",\"GP\"]]\n",
    "teams_nor.iloc[:4]"
   ]
  },
  {
   "cell_type": "markdown",
   "metadata": {},
   "source": [
    "#### Região Sudeste"
   ]
  },
  {
   "cell_type": "code",
   "execution_count": 23,
   "metadata": {},
   "outputs": [
    {
     "data": {
      "text/html": [
       "<div>\n",
       "<style scoped>\n",
       "    .dataframe tbody tr th:only-of-type {\n",
       "        vertical-align: middle;\n",
       "    }\n",
       "\n",
       "    .dataframe tbody tr th {\n",
       "        vertical-align: top;\n",
       "    }\n",
       "\n",
       "    .dataframe thead th {\n",
       "        text-align: right;\n",
       "    }\n",
       "</style>\n",
       "<table border=\"1\" class=\"dataframe\">\n",
       "  <thead>\n",
       "    <tr style=\"text-align: right;\">\n",
       "      <th></th>\n",
       "      <th>TIMES</th>\n",
       "      <th>GP</th>\n",
       "    </tr>\n",
       "  </thead>\n",
       "  <tbody>\n",
       "    <tr>\n",
       "      <th>8</th>\n",
       "      <td>Palmeiras</td>\n",
       "      <td>308</td>\n",
       "    </tr>\n",
       "    <tr>\n",
       "      <th>5</th>\n",
       "      <td>Flamengo</td>\n",
       "      <td>291</td>\n",
       "    </tr>\n",
       "    <tr>\n",
       "      <th>1</th>\n",
       "      <td>Atlético - MG</td>\n",
       "      <td>278</td>\n",
       "    </tr>\n",
       "    <tr>\n",
       "      <th>10</th>\n",
       "      <td>Santos</td>\n",
       "      <td>266</td>\n",
       "    </tr>\n",
       "  </tbody>\n",
       "</table>\n",
       "</div>"
      ],
      "text/plain": [
       "            TIMES   GP\n",
       "8       Palmeiras  308\n",
       "5        Flamengo  291\n",
       "1   Atlético - MG  278\n",
       "10         Santos  266"
      ]
     },
     "execution_count": 23,
     "metadata": {},
     "output_type": "execute_result"
    }
   ],
   "source": [
    "sudeste= brasileirao_df[brasileirao_df.REGIÃO == \"Sudeste\"]\n",
    "group_sudeste = sudeste.groupby(\"TIMES\").sum().reset_index()\n",
    "teams_sude = group_sudeste.sort_values(by=\"GP\",ascending=False)[[\"TIMES\",\"GP\"]]\n",
    "teams_sude.iloc[:4]"
   ]
  },
  {
   "cell_type": "markdown",
   "metadata": {},
   "source": [
    "#### Região Norte"
   ]
  },
  {
   "cell_type": "code",
   "execution_count": 24,
   "metadata": {},
   "outputs": [
    {
     "data": {
      "text/html": [
       "<div>\n",
       "<style scoped>\n",
       "    .dataframe tbody tr th:only-of-type {\n",
       "        vertical-align: middle;\n",
       "    }\n",
       "\n",
       "    .dataframe tbody tr th {\n",
       "        vertical-align: top;\n",
       "    }\n",
       "\n",
       "    .dataframe thead th {\n",
       "        text-align: right;\n",
       "    }\n",
       "</style>\n",
       "<table border=\"1\" class=\"dataframe\">\n",
       "  <thead>\n",
       "    <tr style=\"text-align: right;\">\n",
       "      <th></th>\n",
       "      <th>TIMES</th>\n",
       "      <th>GP</th>\n",
       "    </tr>\n",
       "  </thead>\n",
       "  <tbody>\n",
       "    <tr>\n",
       "      <th>0</th>\n",
       "      <td>Paysandu</td>\n",
       "      <td>192</td>\n",
       "    </tr>\n",
       "    <tr>\n",
       "      <th>1</th>\n",
       "      <td>Remo</td>\n",
       "      <td>98</td>\n",
       "    </tr>\n",
       "    <tr>\n",
       "      <th>2</th>\n",
       "      <td>Rio Branco - AC</td>\n",
       "      <td>52</td>\n",
       "    </tr>\n",
       "    <tr>\n",
       "      <th>3</th>\n",
       "      <td>São Raimundo</td>\n",
       "      <td>33</td>\n",
       "    </tr>\n",
       "  </tbody>\n",
       "</table>\n",
       "</div>"
      ],
      "text/plain": [
       "             TIMES   GP\n",
       "0         Paysandu  192\n",
       "1             Remo   98\n",
       "2  Rio Branco - AC   52\n",
       "3     São Raimundo   33"
      ]
     },
     "execution_count": 24,
     "metadata": {},
     "output_type": "execute_result"
    }
   ],
   "source": [
    "norte= brasileirao_df[brasileirao_df.REGIÃO == \"Norte\"]\n",
    "group_norte = norte.groupby(\"TIMES\").sum().reset_index()\n",
    "teams_n = group_norte.sort_values(by=\"GP\",ascending=False)[[\"TIMES\",\"GP\"]]\n",
    "teams_n.iloc[:4]"
   ]
  },
  {
   "cell_type": "markdown",
   "metadata": {},
   "source": [
    "#### Região Sul"
   ]
  },
  {
   "cell_type": "code",
   "execution_count": 25,
   "metadata": {},
   "outputs": [
    {
     "data": {
      "text/html": [
       "<div>\n",
       "<style scoped>\n",
       "    .dataframe tbody tr th:only-of-type {\n",
       "        vertical-align: middle;\n",
       "    }\n",
       "\n",
       "    .dataframe tbody tr th {\n",
       "        vertical-align: top;\n",
       "    }\n",
       "\n",
       "    .dataframe thead th {\n",
       "        text-align: right;\n",
       "    }\n",
       "</style>\n",
       "<table border=\"1\" class=\"dataframe\">\n",
       "  <thead>\n",
       "    <tr style=\"text-align: right;\">\n",
       "      <th></th>\n",
       "      <th>TIMES</th>\n",
       "      <th>GP</th>\n",
       "    </tr>\n",
       "  </thead>\n",
       "  <tbody>\n",
       "    <tr>\n",
       "      <th>6</th>\n",
       "      <td>Grêmio</td>\n",
       "      <td>260</td>\n",
       "    </tr>\n",
       "    <tr>\n",
       "      <th>0</th>\n",
       "      <td>Atlético - PR</td>\n",
       "      <td>231</td>\n",
       "    </tr>\n",
       "    <tr>\n",
       "      <th>7</th>\n",
       "      <td>Internacional</td>\n",
       "      <td>223</td>\n",
       "    </tr>\n",
       "    <tr>\n",
       "      <th>3</th>\n",
       "      <td>Coritiba</td>\n",
       "      <td>202</td>\n",
       "    </tr>\n",
       "  </tbody>\n",
       "</table>\n",
       "</div>"
      ],
      "text/plain": [
       "           TIMES   GP\n",
       "6         Grêmio  260\n",
       "0  Atlético - PR  231\n",
       "7  Internacional  223\n",
       "3       Coritiba  202"
      ]
     },
     "execution_count": 25,
     "metadata": {},
     "output_type": "execute_result"
    }
   ],
   "source": [
    "sul = brasileirao_df[brasileirao_df.REGIÃO == \"Sul\"]\n",
    "group_sul = sul.groupby(\"TIMES\").sum().reset_index()\n",
    "teams_sul = group_sul.sort_values(by=\"GP\",ascending=False)[[\"TIMES\",\"GP\"]]\n",
    "teams_sul.iloc[:4]"
   ]
  },
  {
   "cell_type": "markdown",
   "metadata": {},
   "source": [
    "#### Região Centro - Oeste"
   ]
  },
  {
   "cell_type": "code",
   "execution_count": 26,
   "metadata": {},
   "outputs": [
    {
     "data": {
      "text/html": [
       "<div>\n",
       "<style scoped>\n",
       "    .dataframe tbody tr th:only-of-type {\n",
       "        vertical-align: middle;\n",
       "    }\n",
       "\n",
       "    .dataframe tbody tr th {\n",
       "        vertical-align: top;\n",
       "    }\n",
       "\n",
       "    .dataframe thead th {\n",
       "        text-align: right;\n",
       "    }\n",
       "</style>\n",
       "<table border=\"1\" class=\"dataframe\">\n",
       "  <thead>\n",
       "    <tr style=\"text-align: right;\">\n",
       "      <th></th>\n",
       "      <th>TIMES</th>\n",
       "      <th>GP</th>\n",
       "    </tr>\n",
       "  </thead>\n",
       "  <tbody>\n",
       "    <tr>\n",
       "      <th>0</th>\n",
       "      <td>Atlético - GO</td>\n",
       "      <td>235</td>\n",
       "    </tr>\n",
       "    <tr>\n",
       "      <th>4</th>\n",
       "      <td>Goiás</td>\n",
       "      <td>223</td>\n",
       "    </tr>\n",
       "    <tr>\n",
       "      <th>6</th>\n",
       "      <td>Vila Nova</td>\n",
       "      <td>191</td>\n",
       "    </tr>\n",
       "    <tr>\n",
       "      <th>5</th>\n",
       "      <td>Luverdense</td>\n",
       "      <td>167</td>\n",
       "    </tr>\n",
       "  </tbody>\n",
       "</table>\n",
       "</div>"
      ],
      "text/plain": [
       "           TIMES   GP\n",
       "0  Atlético - GO  235\n",
       "4          Goiás  223\n",
       "6      Vila Nova  191\n",
       "5     Luverdense  167"
      ]
     },
     "execution_count": 26,
     "metadata": {},
     "output_type": "execute_result"
    }
   ],
   "source": [
    "centro_oeste = brasileirao_df[brasileirao_df.REGIÃO == \"Centro-Oeste\"]\n",
    "group_co = centro_oeste.groupby(\"TIMES\").sum().reset_index()\n",
    "teams_co = group_co.sort_values(by=\"GP\",ascending=False)[[\"TIMES\",\"GP\"]]\n",
    "teams_co.iloc[:4]"
   ]
  },
  {
   "cell_type": "markdown",
   "metadata": {},
   "source": [
    "### Os time que fazem 50 gols tendem a ter quantos pontos?"
   ]
  },
  {
   "cell_type": "markdown",
   "metadata": {},
   "source": [
    "Para responder a questão foi utilizado **Regressão Linear** (meio de determinar a predição de algo, através de uma reta central no gráfico do conjunto de dados), utilizando-se da reta **aX + b**, para isso, faz-se necessário encontrar os coeficientes **a** e **b**."
   ]
  },
  {
   "cell_type": "code",
   "execution_count": 27,
   "metadata": {},
   "outputs": [],
   "source": [
    "import matplotlib.pyplot as plt"
   ]
  },
  {
   "cell_type": "markdown",
   "metadata": {},
   "source": [
    "#### Gráfico de dispersão "
   ]
  },
  {
   "cell_type": "code",
   "execution_count": 28,
   "metadata": {},
   "outputs": [
    {
     "data": {
      "text/plain": [
       "Text(0, 0.5, 'Pontos')"
      ]
     },
     "execution_count": 28,
     "metadata": {},
     "output_type": "execute_result"
    },
    {
     "data": {
      "image/png": "[encoded data removed]",
      "text/plain": [
       "<Figure size 432x288 with 1 Axes>"
      ]
     },
     "metadata": {
      "needs_background": "light"
     },
     "output_type": "display_data"
    }
   ],
   "source": [
    "plt.scatter(brasileirao_df[\"GP\"],brasileirao_df[\"PTS\"],alpha=0.50)\n",
    "plt.xlabel(\"Gols Marcados\")\n",
    "plt.ylabel(\"Pontos\")"
   ]
  },
  {
   "cell_type": "markdown",
   "metadata": {},
   "source": [
    "#### Encontrando os coeficientes \"a\" e \"b\""
   ]
  },
  {
   "cell_type": "code",
   "execution_count": 29,
   "metadata": {},
   "outputs": [
    {
     "name": "stdout",
     "output_type": "stream",
     "text": [
      "a = 1.1511080232524933 b =  1.0375053599778497\n"
     ]
    }
   ],
   "source": [
    "from scipy.stats import linregress\n",
    "values = linregress(brasileirao_df[\"GP\"],brasileirao_df[\"PTS\"])\n",
    "a = values.slope\n",
    "b = values.intercept\n",
    "print(\"a =\", a,\"b = \",b)"
   ]
  },
  {
   "cell_type": "code",
   "execution_count": 30,
   "metadata": {},
   "outputs": [
    {
     "data": {
      "text/plain": [
       "0      22.908558\n",
       "1      49.384042\n",
       "2      24.059666\n",
       "3      10.246370\n",
       "4      51.686258\n",
       "         ...    \n",
       "290    62.046231\n",
       "291    13.699694\n",
       "292    33.268530\n",
       "293    36.721854\n",
       "294    67.801771\n",
       "Name: GP, Length: 295, dtype: float64"
      ]
     },
     "execution_count": 30,
     "metadata": {},
     "output_type": "execute_result"
    }
   ],
   "source": [
    "reta = a*brasileirao_df[\"GP\"] + b\n",
    "reta"
   ]
  },
  {
   "cell_type": "markdown",
   "metadata": {},
   "source": [
    "#### Plotando a reta no gráfico"
   ]
  },
  {
   "cell_type": "code",
   "execution_count": 32,
   "metadata": {},
   "outputs": [
    {
     "data": {
      "text/plain": [
       "<matplotlib.legend.Legend at 0x4902940>"
      ]
     },
     "execution_count": 32,
     "metadata": {},
     "output_type": "execute_result"
    },
    {
     "data": {
      "image/png": "[encoded data removed]",
      "text/plain": [
       "<Figure size 432x288 with 1 Axes>"
      ]
     },
     "metadata": {
      "needs_background": "light"
     },
     "output_type": "display_data"
    }
   ],
   "source": [
    "plt.scatter(brasileirao_df[\"GP\"],brasileirao_df[\"PTS\"],label='Regressão linear',alpha=0.50)\n",
    "plt.plot(brasileirao_df[\"GP\"],reta,color='red')\n",
    "plt.xlabel(\"Gols Marcados\")\n",
    "plt.ylabel(\"Pontos\")\n",
    "plt.legend()"
   ]
  },
  {
   "cell_type": "markdown",
   "metadata": {},
   "source": [
    "#### Com base nas informações encontradas, utilizou-se a seguinte função para responder a pergunta"
   ]
  },
  {
   "cell_type": "code",
   "execution_count": 33,
   "metadata": {},
   "outputs": [
    {
     "name": "stdout",
     "output_type": "stream",
     "text": [
      "Conclui-se que os times que fazem 50 gols no campeonato tendem a fazerem aproximadamente 59 pontos.\n"
     ]
    }
   ],
   "source": [
    "def tendencia(gols):\n",
    "    tendencia = (gols*a) + b\n",
    "    return tendencia\n",
    "\n",
    "print (f'Conclui-se que os times que fazem 50 gols no campeonato tendem a fazerem aproximadamente {tendencia(50):.0f} pontos.')"
   ]
  },
  {
   "cell_type": "markdown",
   "metadata": {},
   "source": [
    "### Dos times que mais obtiveram vitórias, em cada região, quais tiveram um melhor aproveitamento nos últimos 5 anos?"
   ]
  },
  {
   "cell_type": "markdown",
   "metadata": {},
   "source": [
    "Inicialmente foi feito a identificação do time que obtive o maior número de vitórias de cada região. "
   ]
  },
  {
   "cell_type": "markdown",
   "metadata": {},
   "source": [
    "#### Região Nordeste"
   ]
  },
  {
   "cell_type": "code",
   "execution_count": 34,
   "metadata": {},
   "outputs": [
    {
     "data": {
      "text/html": [
       "<div>\n",
       "<style scoped>\n",
       "    .dataframe tbody tr th:only-of-type {\n",
       "        vertical-align: middle;\n",
       "    }\n",
       "\n",
       "    .dataframe tbody tr th {\n",
       "        vertical-align: top;\n",
       "    }\n",
       "\n",
       "    .dataframe thead th {\n",
       "        text-align: right;\n",
       "    }\n",
       "</style>\n",
       "<table border=\"1\" class=\"dataframe\">\n",
       "  <thead>\n",
       "    <tr style=\"text-align: right;\">\n",
       "      <th></th>\n",
       "      <th>TIMES</th>\n",
       "      <th>V</th>\n",
       "      <th>%</th>\n",
       "    </tr>\n",
       "  </thead>\n",
       "  <tbody>\n",
       "    <tr>\n",
       "      <th>5</th>\n",
       "      <td>CRB</td>\n",
       "      <td>71</td>\n",
       "      <td>0.621053</td>\n",
       "    </tr>\n",
       "  </tbody>\n",
       "</table>\n",
       "</div>"
      ],
      "text/plain": [
       "  TIMES   V         %\n",
       "5   CRB  71  0.621053"
      ]
     },
     "execution_count": 34,
     "metadata": {},
     "output_type": "execute_result"
    }
   ],
   "source": [
    "NE_df = brasileirao_df[brasileirao_df[\"REGIÃO\"] == \"Nordeste\"]\n",
    "grupo_NE = NE_df.groupby(\"TIMES\").sum().reset_index()\n",
    "grupo_NE[\"%\"] = (grupo_NE[\"V\"] + grupo_NE[\"E\"]) / grupo_NE[\"J\"]\n",
    "ordem_NE = grupo_NE.sort_values(by=\"V\", ascending=False)[[\"TIMES\", \"V\", \"%\"]]\n",
    "melhor_NE = ordem_NE.iloc[0:1]\n",
    "melhor_NE"
   ]
  },
  {
   "cell_type": "markdown",
   "metadata": {},
   "source": [
    "#### Região Sudeste"
   ]
  },
  {
   "cell_type": "code",
   "execution_count": 35,
   "metadata": {},
   "outputs": [
    {
     "data": {
      "text/html": [
       "<div>\n",
       "<style scoped>\n",
       "    .dataframe tbody tr th:only-of-type {\n",
       "        vertical-align: middle;\n",
       "    }\n",
       "\n",
       "    .dataframe tbody tr th {\n",
       "        vertical-align: top;\n",
       "    }\n",
       "\n",
       "    .dataframe thead th {\n",
       "        text-align: right;\n",
       "    }\n",
       "</style>\n",
       "<table border=\"1\" class=\"dataframe\">\n",
       "  <thead>\n",
       "    <tr style=\"text-align: right;\">\n",
       "      <th></th>\n",
       "      <th>TIMES</th>\n",
       "      <th>V</th>\n",
       "      <th>%</th>\n",
       "    </tr>\n",
       "  </thead>\n",
       "  <tbody>\n",
       "    <tr>\n",
       "      <th>8</th>\n",
       "      <td>Palmeiras</td>\n",
       "      <td>102</td>\n",
       "      <td>0.768421</td>\n",
       "    </tr>\n",
       "  </tbody>\n",
       "</table>\n",
       "</div>"
      ],
      "text/plain": [
       "       TIMES    V         %\n",
       "8  Palmeiras  102  0.768421"
      ]
     },
     "execution_count": 35,
     "metadata": {},
     "output_type": "execute_result"
    }
   ],
   "source": [
    "SE_df = brasileirao_df[brasileirao_df[\"REGIÃO\"] == \"Sudeste\"]\n",
    "grupo_SE = SE_df.groupby(\"TIMES\").sum().reset_index()\n",
    "grupo_SE[\"%\"] = (grupo_SE[\"V\"] + grupo_SE[\"E\"]) / grupo_SE[\"J\"]\n",
    "ordem_SE = grupo_SE.sort_values(by=\"V\", ascending=False)[[\"TIMES\", \"V\", \"%\"]]\n",
    "melhor_SE = ordem_SE.iloc[0:1]\n",
    "melhor_SE"
   ]
  },
  {
   "cell_type": "markdown",
   "metadata": {},
   "source": [
    "#### Região Norte"
   ]
  },
  {
   "cell_type": "code",
   "execution_count": 36,
   "metadata": {},
   "outputs": [
    {
     "data": {
      "text/html": [
       "<div>\n",
       "<style scoped>\n",
       "    .dataframe tbody tr th:only-of-type {\n",
       "        vertical-align: middle;\n",
       "    }\n",
       "\n",
       "    .dataframe tbody tr th {\n",
       "        vertical-align: top;\n",
       "    }\n",
       "\n",
       "    .dataframe thead th {\n",
       "        text-align: right;\n",
       "    }\n",
       "</style>\n",
       "<table border=\"1\" class=\"dataframe\">\n",
       "  <thead>\n",
       "    <tr style=\"text-align: right;\">\n",
       "      <th></th>\n",
       "      <th>TIMES</th>\n",
       "      <th>V</th>\n",
       "      <th>%</th>\n",
       "    </tr>\n",
       "  </thead>\n",
       "  <tbody>\n",
       "    <tr>\n",
       "      <th>0</th>\n",
       "      <td>Paysandu</td>\n",
       "      <td>57</td>\n",
       "      <td>0.674419</td>\n",
       "    </tr>\n",
       "  </tbody>\n",
       "</table>\n",
       "</div>"
      ],
      "text/plain": [
       "      TIMES   V         %\n",
       "0  Paysandu  57  0.674419"
      ]
     },
     "execution_count": 36,
     "metadata": {},
     "output_type": "execute_result"
    }
   ],
   "source": [
    "N_df = brasileirao_df[brasileirao_df[\"REGIÃO\"] == \"Norte\"]\n",
    "grupo_N = N_df.groupby(\"TIMES\").sum().reset_index()\n",
    "grupo_N[\"%\"] = (grupo_N[\"V\"] + grupo_N[\"E\"]) / grupo_N[\"J\"]\n",
    "ordem_N = grupo_N.sort_values(by=\"V\", ascending=False)[[\"TIMES\", \"V\", \"%\"]]\n",
    "melhor_N = ordem_N.iloc[0:1]\n",
    "melhor_N"
   ]
  },
  {
   "cell_type": "markdown",
   "metadata": {},
   "source": [
    "#### Região Sul"
   ]
  },
  {
   "cell_type": "code",
   "execution_count": 37,
   "metadata": {},
   "outputs": [
    {
     "data": {
      "text/html": [
       "<div>\n",
       "<style scoped>\n",
       "    .dataframe tbody tr th:only-of-type {\n",
       "        vertical-align: middle;\n",
       "    }\n",
       "\n",
       "    .dataframe tbody tr th {\n",
       "        vertical-align: top;\n",
       "    }\n",
       "\n",
       "    .dataframe thead th {\n",
       "        text-align: right;\n",
       "    }\n",
       "</style>\n",
       "<table border=\"1\" class=\"dataframe\">\n",
       "  <thead>\n",
       "    <tr style=\"text-align: right;\">\n",
       "      <th></th>\n",
       "      <th>TIMES</th>\n",
       "      <th>V</th>\n",
       "      <th>%</th>\n",
       "    </tr>\n",
       "  </thead>\n",
       "  <tbody>\n",
       "    <tr>\n",
       "      <th>6</th>\n",
       "      <td>Grêmio</td>\n",
       "      <td>89</td>\n",
       "      <td>0.715789</td>\n",
       "    </tr>\n",
       "  </tbody>\n",
       "</table>\n",
       "</div>"
      ],
      "text/plain": [
       "    TIMES   V         %\n",
       "6  Grêmio  89  0.715789"
      ]
     },
     "execution_count": 37,
     "metadata": {},
     "output_type": "execute_result"
    }
   ],
   "source": [
    "S_df = brasileirao_df[brasileirao_df[\"REGIÃO\"] == \"Sul\"]\n",
    "grupo_S = S_df.groupby(\"TIMES\").sum().reset_index()\n",
    "grupo_S[\"%\"] = (grupo_S[\"V\"] + grupo_S[\"E\"]) / grupo_S[\"J\"]\n",
    "ordem_S = grupo_S.sort_values(by=\"V\", ascending=False)[[\"TIMES\", \"V\", \"%\"]]\n",
    "melhor_S = ordem_S.iloc[0:1]\n",
    "melhor_S"
   ]
  },
  {
   "cell_type": "markdown",
   "metadata": {},
   "source": [
    "#### Região Centro - Oeste"
   ]
  },
  {
   "cell_type": "code",
   "execution_count": 38,
   "metadata": {},
   "outputs": [
    {
     "data": {
      "text/html": [
       "<div>\n",
       "<style scoped>\n",
       "    .dataframe tbody tr th:only-of-type {\n",
       "        vertical-align: middle;\n",
       "    }\n",
       "\n",
       "    .dataframe tbody tr th {\n",
       "        vertical-align: top;\n",
       "    }\n",
       "\n",
       "    .dataframe thead th {\n",
       "        text-align: right;\n",
       "    }\n",
       "</style>\n",
       "<table border=\"1\" class=\"dataframe\">\n",
       "  <thead>\n",
       "    <tr style=\"text-align: right;\">\n",
       "      <th></th>\n",
       "      <th>TIMES</th>\n",
       "      <th>V</th>\n",
       "      <th>%</th>\n",
       "    </tr>\n",
       "  </thead>\n",
       "  <tbody>\n",
       "    <tr>\n",
       "      <th>0</th>\n",
       "      <td>Atlético - GO</td>\n",
       "      <td>73</td>\n",
       "      <td>0.7</td>\n",
       "    </tr>\n",
       "  </tbody>\n",
       "</table>\n",
       "</div>"
      ],
      "text/plain": [
       "           TIMES   V    %\n",
       "0  Atlético - GO  73  0.7"
      ]
     },
     "execution_count": 38,
     "metadata": {},
     "output_type": "execute_result"
    }
   ],
   "source": [
    "CO_df = brasileirao_df[brasileirao_df[\"REGIÃO\"] == \"Centro-Oeste\"]\n",
    "grupo_CO = CO_df.groupby(\"TIMES\").sum().reset_index()\n",
    "grupo_CO[\"%\"] = (grupo_CO[\"V\"] + grupo_CO[\"E\"]) / grupo_CO[\"J\"]\n",
    "ordem_CO = grupo_CO.sort_values(by=\"V\", ascending=False)[[\"TIMES\", \"V\", \"%\"]]\n",
    "melhor_CO = ordem_CO.iloc[0:1]\n",
    "melhor_CO"
   ]
  },
  {
   "cell_type": "markdown",
   "metadata": {},
   "source": [
    "#### Agrupando os times que apresentaram um maior número de vitórias em sua região\n",
    "\n",
    "Após a identificação dos times que obtiveram maior número de vitórias, eles foram agrupados em uma única tabela, e em seguida, os dados foram apresentados em um gráfico de barras para que fosse possível obter uma melhor visualização."
   ]
  },
  {
   "cell_type": "code",
   "execution_count": 43,
   "metadata": {},
   "outputs": [
    {
     "data": {
      "text/html": [
       "<div>\n",
       "<style scoped>\n",
       "    .dataframe tbody tr th:only-of-type {\n",
       "        vertical-align: middle;\n",
       "    }\n",
       "\n",
       "    .dataframe tbody tr th {\n",
       "        vertical-align: top;\n",
       "    }\n",
       "\n",
       "    .dataframe thead th {\n",
       "        text-align: right;\n",
       "    }\n",
       "</style>\n",
       "<table border=\"1\" class=\"dataframe\">\n",
       "  <thead>\n",
       "    <tr style=\"text-align: right;\">\n",
       "      <th></th>\n",
       "      <th>TIMES</th>\n",
       "      <th>V</th>\n",
       "      <th>%</th>\n",
       "    </tr>\n",
       "  </thead>\n",
       "  <tbody>\n",
       "    <tr>\n",
       "      <th>5</th>\n",
       "      <td>CRB</td>\n",
       "      <td>71</td>\n",
       "      <td>0.621053</td>\n",
       "    </tr>\n",
       "    <tr>\n",
       "      <th>8</th>\n",
       "      <td>Palmeiras</td>\n",
       "      <td>102</td>\n",
       "      <td>0.768421</td>\n",
       "    </tr>\n",
       "    <tr>\n",
       "      <th>0</th>\n",
       "      <td>Paysandu</td>\n",
       "      <td>57</td>\n",
       "      <td>0.674419</td>\n",
       "    </tr>\n",
       "    <tr>\n",
       "      <th>6</th>\n",
       "      <td>Grêmio</td>\n",
       "      <td>89</td>\n",
       "      <td>0.715789</td>\n",
       "    </tr>\n",
       "    <tr>\n",
       "      <th>0</th>\n",
       "      <td>Atlético - GO</td>\n",
       "      <td>73</td>\n",
       "      <td>0.700000</td>\n",
       "    </tr>\n",
       "  </tbody>\n",
       "</table>\n",
       "</div>"
      ],
      "text/plain": [
       "           TIMES    V         %\n",
       "5            CRB   71  0.621053\n",
       "8      Palmeiras  102  0.768421\n",
       "0       Paysandu   57  0.674419\n",
       "6         Grêmio   89  0.715789\n",
       "0  Atlético - GO   73  0.700000"
      ]
     },
     "execution_count": 43,
     "metadata": {},
     "output_type": "execute_result"
    }
   ],
   "source": [
    "relacao_colunas = {'TIMES':'TIMES', 'V':'V', '%':'%'}\n",
    "df_concat = pd.concat([melhor_NE, melhor_SE, melhor_N, melhor_S, melhor_CO.rename(columns=relacao_colunas)])\n",
    "df_concat"
   ]
  },
  {
   "cell_type": "code",
   "execution_count": 45,
   "metadata": {},
   "outputs": [
    {
     "data": {
      "text/plain": [
       "<matplotlib.axes._subplots.AxesSubplot at 0x1498fc58>"
      ]
     },
     "execution_count": 45,
     "metadata": {},
     "output_type": "execute_result"
    },
    {
     "data": {
      "image/png": "[encoded data removed]",
      "text/plain": [
       "<Figure size 432x288 with 1 Axes>"
      ]
     },
     "metadata": {
      "needs_background": "light"
     },
     "output_type": "display_data"
    }
   ],
   "source": [
    "import seaborn as sns\n",
    "sns.set_palette('Set2')\n",
    "\n",
    "sns.barplot(data=df_concat, x=\"TIMES\", y=\"%\")"
   ]
  },
  {
   "cell_type": "markdown",
   "metadata": {},
   "source": [
    "Como pode ser observado no gráfico acima, entre os times, de cada região, que obtiveram uma maior quantidade de vitórias nos últimos 5 anos, pode-se afirmar que o Palmeiras foi o que apresentou melhor aproveitamento com um total de 0.768421 %"
   ]
  },
  {
   "cell_type": "markdown",
   "metadata": {},
   "source": [
    "### É possível que exista alguma relação entre a quantidade de cartões amarelos e a quantidade de pontos?"
   ]
  },
  {
   "cell_type": "markdown",
   "metadata": {},
   "source": [
    "#### Ano 2015"
   ]
  },
  {
   "cell_type": "code",
   "execution_count": 48,
   "metadata": {},
   "outputs": [
    {
     "data": {
      "text/plain": [
       "<matplotlib.axes._subplots.AxesSubplot at 0xf4b0df0>"
      ]
     },
     "execution_count": 48,
     "metadata": {},
     "output_type": "execute_result"
    },
    {
     "data": {
      "image/png": "[encoded data removed]",
      "text/plain": [
       "<Figure size 432x288 with 1 Axes>"
      ]
     },
     "metadata": {
      "needs_background": "light"
     },
     "output_type": "display_data"
    }
   ],
   "source": [
    "from sklearn.cluster import KMeans\n",
    "year_2015= brasileirao_df[brasileirao_df.ANO == 2015]\n",
    "kmeans = KMeans(n_clusters=4)\n",
    "\n",
    "year_2015_group=year_2015[[\"V\",\"CA\"]]\n",
    "kmeans.fit(year_2015_group)\n",
    "sns.scatterplot(data= year_2015_group, x=\"CA\", y=\"V\", hue=kmeans.labels_)"
   ]
  },
  {
   "cell_type": "markdown",
   "metadata": {},
   "source": [
    "#### Ano 2016"
   ]
  },
  {
   "cell_type": "code",
   "execution_count": 49,
   "metadata": {},
   "outputs": [
    {
     "data": {
      "text/plain": [
       "<matplotlib.axes._subplots.AxesSubplot at 0xf55c1c0>"
      ]
     },
     "execution_count": 49,
     "metadata": {},
     "output_type": "execute_result"
    },
    {
     "data": {
      "image/png": "[encoded data removed]",
      "text/plain": [
       "<Figure size 432x288 with 1 Axes>"
      ]
     },
     "metadata": {
      "needs_background": "light"
     },
     "output_type": "display_data"
    }
   ],
   "source": [
    "year_2016= brasileirao_df[brasileirao_df.ANO == 2016]\n",
    "\n",
    "year_2016_group=year_2016[[\"V\",\"CA\"]]\n",
    "kmeans.fit(year_2016_group)\n",
    "sns.scatterplot(data= year_2016_group, x=\"CA\", y=\"V\", hue=kmeans.labels_)"
   ]
  },
  {
   "cell_type": "markdown",
   "metadata": {},
   "source": [
    "#### Ano 2017"
   ]
  },
  {
   "cell_type": "code",
   "execution_count": 50,
   "metadata": {},
   "outputs": [
    {
     "data": {
      "text/plain": [
       "<matplotlib.axes._subplots.AxesSubplot at 0xf55cc28>"
      ]
     },
     "execution_count": 50,
     "metadata": {},
     "output_type": "execute_result"
    },
    {
     "data": {
      "image/png": "[encoded data removed]",
      "text/plain": [
       "<Figure size 432x288 with 1 Axes>"
      ]
     },
     "metadata": {
      "needs_background": "light"
     },
     "output_type": "display_data"
    }
   ],
   "source": [
    "year_2017= brasileirao_df[brasileirao_df.ANO == 2017]\n",
    "\n",
    "year_2017_group=year_2017[[\"V\",\"CA\"]]\n",
    "kmeans.fit(year_2017_group)\n",
    "sns.scatterplot(data= year_2017_group, x=\"CA\", y=\"V\", hue=kmeans.labels_)"
   ]
  },
  {
   "cell_type": "markdown",
   "metadata": {},
   "source": [
    "#### Ano 2018"
   ]
  },
  {
   "cell_type": "code",
   "execution_count": 51,
   "metadata": {},
   "outputs": [
    {
     "data": {
      "text/plain": [
       "<matplotlib.axes._subplots.AxesSubplot at 0x13c37da8>"
      ]
     },
     "execution_count": 51,
     "metadata": {},
     "output_type": "execute_result"
    },
    {
     "data": {
      "image/png": "[encoded data removed]",
      "text/plain": [
       "<Figure size 432x288 with 1 Axes>"
      ]
     },
     "metadata": {
      "needs_background": "light"
     },
     "output_type": "display_data"
    }
   ],
   "source": [
    "year_2018= brasileirao_df[brasileirao_df.ANO == 2018]\n",
    "\n",
    "year_2018_group=year_2018[[\"V\",\"CA\"]]\n",
    "kmeans.fit(year_2018_group)\n",
    "sns.scatterplot(data= year_2018_group, x=\"CA\", y=\"V\", hue=kmeans.labels_)"
   ]
  },
  {
   "cell_type": "markdown",
   "metadata": {},
   "source": [
    "#### Ano 2019"
   ]
  },
  {
   "cell_type": "code",
   "execution_count": 52,
   "metadata": {},
   "outputs": [
    {
     "data": {
      "text/plain": [
       "<matplotlib.axes._subplots.AxesSubplot at 0x13c7bce8>"
      ]
     },
     "execution_count": 52,
     "metadata": {},
     "output_type": "execute_result"
    },
    {
     "data": {
      "image/png": "[encoded data removed]",
      "text/plain": [
       "<Figure size 432x288 with 1 Axes>"
      ]
     },
     "metadata": {
      "needs_background": "light"
     },
     "output_type": "display_data"
    }
   ],
   "source": [
    "year_2019= brasileirao_df[brasileirao_df.ANO == 2019]\n",
    "\n",
    "year_2019_group=year_2019[[\"V\",\"CA\"]]\n",
    "kmeans.fit(year_2019_group)\n",
    "sns.scatterplot(data= year_2019_group, x=\"CA\", y=\"V\", hue=kmeans.labels_)"
   ]
  },
  {
   "cell_type": "markdown",
   "metadata": {},
   "source": [
    "Visualizando todos os graficos percebe-se que existe sim uma relação entre cartões amarelos e vitórias, de modo que quanto maior o numéro de cartões, mais vitórias os times possuem, porém, em alguns anos, quando se chega à 60 cartões essa relação já não é tão significativa como antes de atingir tais números."
   ]
  },
  {
   "cell_type": "markdown",
   "metadata": {},
   "source": [
    "## Conclusão"
   ]
  },
  {
   "cell_type": "markdown",
   "metadata": {},
   "source": [
    "Com base nos resultados pode-se observar, nos últimos 5 anos (2015-2019), que dentre os 12 times, totalizando as 5 regiões do Brasil, que obtiveram um maior saldo de gols, o Palmeiras (Região Sudeste) foi o que obteve um maior saldo, com um total de 308 gols, e consequentemente, também obteve o melhor aproveitamento, conseguindo um total de 0.768421% de vitórias em relação a quantidade de jogos.\n",
    "\n",
    "A importância de analisar esses dados é que, utilizando regressão linear, foi possível determinar a tendência de um time ter pontos através dos seus gols marcados, assim, ao acompanhar uma nova temporada, pode-se ter uma noção de onde o time chegará. E ao saber a quantidade de gols/vitórias pode-se observar como foi o desempenho do time na temporada, além de poder descobrir padrões com essas estatísticas, como por exemplo: a analise da relação entre cartões amarelos e vitórias, identificou-se que existe sim uma relação, onde ajudou a entender melhor como ocorre tais estatísticas.\n",
    "\n",
    "O projeto não apresentou nenhuma limitação, visto que, a coleta dos dados foram feitas diretamente no site da CBF, onde o público tem livre acesso.  E temos como trabalhos futuros fazer uma analise com mais  anos, para ter uma consistência  melhor dos resultados. E as melhorias que podem ser feitas é a análise mais detalhada dos times em cada ano."
   ]
  }
 ],
 "metadata": {
  "kernelspec": {
   "display_name": "Python 3",
   "language": "python",
   "name": "python3"
  },
  "language_info": {
   "codemirror_mode": {
    "name": "ipython",
    "version": 3
   },
   "file_extension": ".py",
   "mimetype": "text/x-python",
   "name": "python",
   "nbconvert_exporter": "python",
   "pygments_lexer": "ipython3",
   "version": "3.8.5"
  }
 },
 "nbformat": 4,
 "nbformat_minor": 4
}
