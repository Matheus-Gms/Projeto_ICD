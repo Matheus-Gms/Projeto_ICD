{
 "cells": [
  {
   "cell_type": "markdown",
   "metadata": {},
   "source": [
    "# Projeto #2 - Exploração Inicial"
   ]
  },
  {
   "cell_type": "markdown",
   "metadata": {},
   "source": [
    "#### Medidas de Centralidade / Medidas de Dispersão / Boxplot"
   ]
  },
  {
   "cell_type": "code",
   "execution_count": 1,
   "metadata": {},
   "outputs": [],
   "source": [
    "import pandas as pd"
   ]
  },
  {
   "cell_type": "code",
   "execution_count": 3,
   "metadata": {},
   "outputs": [
    {
     "data": {
      "text/html": [
       "<div>\n",
       "<style scoped>\n",
       "    .dataframe tbody tr th:only-of-type {\n",
       "        vertical-align: middle;\n",
       "    }\n",
       "\n",
       "    .dataframe tbody tr th {\n",
       "        vertical-align: top;\n",
       "    }\n",
       "\n",
       "    .dataframe thead th {\n",
       "        text-align: right;\n",
       "    }\n",
       "</style>\n",
       "<table border=\"1\" class=\"dataframe\">\n",
       "  <thead>\n",
       "    <tr style=\"text-align: right;\">\n",
       "      <th></th>\n",
       "      <th>TIMES</th>\n",
       "      <th>ANO</th>\n",
       "      <th>SÉRIE</th>\n",
       "      <th>PTS</th>\n",
       "      <th>J</th>\n",
       "      <th>V</th>\n",
       "      <th>E</th>\n",
       "      <th>D</th>\n",
       "      <th>GP</th>\n",
       "      <th>GC</th>\n",
       "      <th>SG</th>\n",
       "      <th>CA</th>\n",
       "      <th>CV</th>\n",
       "    </tr>\n",
       "  </thead>\n",
       "  <tbody>\n",
       "    <tr>\n",
       "      <th>0</th>\n",
       "      <td>GUARANY DE SOBRAL</td>\n",
       "      <td>2019</td>\n",
       "      <td>S/D</td>\n",
       "      <td>0</td>\n",
       "      <td>0</td>\n",
       "      <td>0</td>\n",
       "      <td>0</td>\n",
       "      <td>0</td>\n",
       "      <td>0</td>\n",
       "      <td>0</td>\n",
       "      <td>0</td>\n",
       "      <td>0</td>\n",
       "      <td>0</td>\n",
       "    </tr>\n",
       "    <tr>\n",
       "      <th>1</th>\n",
       "      <td>IMPERATRIZ</td>\n",
       "      <td>2019</td>\n",
       "      <td>C</td>\n",
       "      <td>29</td>\n",
       "      <td>20</td>\n",
       "      <td>8</td>\n",
       "      <td>5</td>\n",
       "      <td>7</td>\n",
       "      <td>27</td>\n",
       "      <td>26</td>\n",
       "      <td>1</td>\n",
       "      <td>38</td>\n",
       "      <td>4</td>\n",
       "    </tr>\n",
       "    <tr>\n",
       "      <th>2</th>\n",
       "      <td>LUVERDENSE</td>\n",
       "      <td>2019</td>\n",
       "      <td>C</td>\n",
       "      <td>13</td>\n",
       "      <td>18</td>\n",
       "      <td>1</td>\n",
       "      <td>10</td>\n",
       "      <td>7</td>\n",
       "      <td>13</td>\n",
       "      <td>19</td>\n",
       "      <td>-6</td>\n",
       "      <td>36</td>\n",
       "      <td>4</td>\n",
       "    </tr>\n",
       "    <tr>\n",
       "      <th>3</th>\n",
       "      <td>MOTO CLUB</td>\n",
       "      <td>2019</td>\n",
       "      <td>D</td>\n",
       "      <td>15</td>\n",
       "      <td>8</td>\n",
       "      <td>4</td>\n",
       "      <td>3</td>\n",
       "      <td>1</td>\n",
       "      <td>19</td>\n",
       "      <td>9</td>\n",
       "      <td>10</td>\n",
       "      <td>22</td>\n",
       "      <td>1</td>\n",
       "    </tr>\n",
       "    <tr>\n",
       "      <th>4</th>\n",
       "      <td>NÁUTICO -PE</td>\n",
       "      <td>2019</td>\n",
       "      <td>C</td>\n",
       "      <td>42</td>\n",
       "      <td>24</td>\n",
       "      <td>12</td>\n",
       "      <td>6</td>\n",
       "      <td>6</td>\n",
       "      <td>34</td>\n",
       "      <td>26</td>\n",
       "      <td>8</td>\n",
       "      <td>55</td>\n",
       "      <td>4</td>\n",
       "    </tr>\n",
       "    <tr>\n",
       "      <th>...</th>\n",
       "      <td>...</td>\n",
       "      <td>...</td>\n",
       "      <td>...</td>\n",
       "      <td>...</td>\n",
       "      <td>...</td>\n",
       "      <td>...</td>\n",
       "      <td>...</td>\n",
       "      <td>...</td>\n",
       "      <td>...</td>\n",
       "      <td>...</td>\n",
       "      <td>...</td>\n",
       "      <td>...</td>\n",
       "      <td>...</td>\n",
       "    </tr>\n",
       "    <tr>\n",
       "      <th>290</th>\n",
       "      <td>CUIABÁ</td>\n",
       "      <td>2015</td>\n",
       "      <td>C</td>\n",
       "      <td>19</td>\n",
       "      <td>18</td>\n",
       "      <td>5</td>\n",
       "      <td>4</td>\n",
       "      <td>9</td>\n",
       "      <td>20</td>\n",
       "      <td>25</td>\n",
       "      <td>-5</td>\n",
       "      <td>55</td>\n",
       "      <td>3</td>\n",
       "    </tr>\n",
       "    <tr>\n",
       "      <th>291</th>\n",
       "      <td>FLAMENGO PI</td>\n",
       "      <td>2015</td>\n",
       "      <td>S/D</td>\n",
       "      <td>0</td>\n",
       "      <td>0</td>\n",
       "      <td>0</td>\n",
       "      <td>0</td>\n",
       "      <td>0</td>\n",
       "      <td>0</td>\n",
       "      <td>0</td>\n",
       "      <td>0</td>\n",
       "      <td>0</td>\n",
       "      <td>0</td>\n",
       "    </tr>\n",
       "    <tr>\n",
       "      <th>292</th>\n",
       "      <td>FLU DE FEIRA</td>\n",
       "      <td>2015</td>\n",
       "      <td>S/D</td>\n",
       "      <td>0</td>\n",
       "      <td>0</td>\n",
       "      <td>0</td>\n",
       "      <td>0</td>\n",
       "      <td>0</td>\n",
       "      <td>0</td>\n",
       "      <td>0</td>\n",
       "      <td>0</td>\n",
       "      <td>0</td>\n",
       "      <td>0</td>\n",
       "    </tr>\n",
       "    <tr>\n",
       "      <th>293</th>\n",
       "      <td>GAMA</td>\n",
       "      <td>2015</td>\n",
       "      <td>D</td>\n",
       "      <td>13</td>\n",
       "      <td>8</td>\n",
       "      <td>3</td>\n",
       "      <td>4</td>\n",
       "      <td>1</td>\n",
       "      <td>9</td>\n",
       "      <td>6</td>\n",
       "      <td>3</td>\n",
       "      <td>25</td>\n",
       "      <td>2</td>\n",
       "    </tr>\n",
       "    <tr>\n",
       "      <th>294</th>\n",
       "      <td>GUARANI</td>\n",
       "      <td>2015</td>\n",
       "      <td>C</td>\n",
       "      <td>29</td>\n",
       "      <td>18</td>\n",
       "      <td>7</td>\n",
       "      <td>8</td>\n",
       "      <td>3</td>\n",
       "      <td>23</td>\n",
       "      <td>17</td>\n",
       "      <td>6</td>\n",
       "      <td>46</td>\n",
       "      <td>3</td>\n",
       "    </tr>\n",
       "  </tbody>\n",
       "</table>\n",
       "<p>295 rows × 13 columns</p>\n",
       "</div>"
      ],
      "text/plain": [
       "                 TIMES   ANO SÉRIE  PTS   J   V   E  D  GP  GC  SG  CA  CV\n",
       "0    GUARANY DE SOBRAL  2019   S/D    0   0   0   0  0   0   0   0   0   0\n",
       "1           IMPERATRIZ  2019     C   29  20   8   5  7  27  26   1  38   4\n",
       "2           LUVERDENSE  2019     C   13  18   1  10  7  13  19  -6  36   4\n",
       "3            MOTO CLUB  2019     D   15   8   4   3  1  19   9  10  22   1\n",
       "4          NÁUTICO -PE  2019     C   42  24  12   6  6  34  26   8  55   4\n",
       "..                 ...   ...   ...  ...  ..  ..  .. ..  ..  ..  ..  ..  ..\n",
       "290             CUIABÁ  2015     C   19  18   5   4  9  20  25  -5  55   3\n",
       "291        FLAMENGO PI  2015   S/D    0   0   0   0  0   0   0   0   0   0\n",
       "292       FLU DE FEIRA  2015   S/D    0   0   0   0  0   0   0   0   0   0\n",
       "293               GAMA  2015     D   13   8   3   4  1   9   6   3  25   2\n",
       "294            GUARANI  2015     C   29  18   7   8  3  23  17   6  46   3\n",
       "\n",
       "[295 rows x 13 columns]"
      ]
     },
     "execution_count": 3,
     "metadata": {},
     "output_type": "execute_result"
    }
   ],
   "source": [
    "brasileirao_df = pd.read_csv(\"dataset/brasileirao_2015_2019.csv\")\n",
    "brasileirao_df"
   ]
  },
  {
   "cell_type": "markdown",
   "metadata": {},
   "source": [
    "## Pontos (PTS)"
   ]
  },
  {
   "cell_type": "code",
   "execution_count": 4,
   "metadata": {},
   "outputs": [
    {
     "name": "stdout",
     "output_type": "stream",
     "text": [
      "Média dos Pontos:  37.08474576271186\n",
      "Moda dos Pontos:  0    0\n",
      "dtype: int64\n",
      "Mediana dos Pontos:  42.0\n",
      "Variância dos Pontos:  482.4791882854837\n",
      "Desvio Padrão dos Pontos:  21.96540890321607\n"
     ]
    }
   ],
   "source": [
    "Media = brasileirao_df[\"PTS\"].mean()\n",
    "Moda = brasileirao_df[\"PTS\"].mode()\n",
    "Mediana = brasileirao_df[\"PTS\"].median()\n",
    "Var = brasileirao_df[\"PTS\"].var()\n",
    "DP = brasileirao_df[\"PTS\"].var()**0.5\n",
    "print (\"Média dos Pontos: \", Media)\n",
    "print (\"Moda dos Pontos: \", Moda)\n",
    "print (\"Mediana dos Pontos: \", Mediana)\n",
    "print (\"Variância dos Pontos: \", Var)\n",
    "print (\"Desvio Padrão dos Pontos: \", DP)"
   ]
  },
  {
   "cell_type": "code",
   "execution_count": 5,
   "metadata": {},
   "outputs": [
    {
     "data": {
      "text/plain": [
       "<matplotlib.axes._subplots.AxesSubplot at 0x4b5b8f8>"
      ]
     },
     "execution_count": 5,
     "metadata": {},
     "output_type": "execute_result"
    },
    {
     "data": {
      "image/png": "[encoded data removed]",
      "text/plain": [
       "<Figure size 432x288 with 1 Axes>"
      ]
     },
     "metadata": {
      "needs_background": "light"
     },
     "output_type": "display_data"
    }
   ],
   "source": [
    "brasileirao_df.boxplot(column=\"PTS\")"
   ]
  },
  {
   "cell_type": "markdown",
   "metadata": {},
   "source": [
    "## Jogos (J)"
   ]
  },
  {
   "cell_type": "code",
   "execution_count": 7,
   "metadata": {},
   "outputs": [
    {
     "name": "stdout",
     "output_type": "stream",
     "text": [
      "Média dos Jogos:  26.535593220338985\n",
      "Moda dos Jogos:  0    38\n",
      "dtype: int64\n",
      "Mediana dos Jogos:  38.0\n",
      "Variância dos Jogos:  209.7937968407702\n",
      "Desvio Padrão dos Jogos:  14.484260313898332\n"
     ]
    }
   ],
   "source": [
    "Media = brasileirao_df[\"J\"].mean()\n",
    "Moda = brasileirao_df[\"J\"].mode()\n",
    "Mediana = brasileirao_df[\"J\"].median()\n",
    "Var = brasileirao_df[\"J\"].var()\n",
    "DP = brasileirao_df[\"J\"].var()**0.5\n",
    "print (\"Média dos Jogos: \", Media)\n",
    "print (\"Moda dos Jogos: \", Moda)\n",
    "print (\"Mediana dos Jogos: \", Mediana)\n",
    "print (\"Variância dos Jogos: \", Var)\n",
    "print (\"Desvio Padrão dos Jogos: \", DP)"
   ]
  },
  {
   "cell_type": "code",
   "execution_count": 8,
   "metadata": {},
   "outputs": [
    {
     "data": {
      "text/plain": [
       "<matplotlib.axes._subplots.AxesSubplot at 0x4bf2e98>"
      ]
     },
     "execution_count": 8,
     "metadata": {},
     "output_type": "execute_result"
    },
    {
     "data": {
      "image/png": "[encoded data removed]",
      "text/plain": [
       "<Figure size 432x288 with 1 Axes>"
      ]
     },
     "metadata": {
      "needs_background": "light"
     },
     "output_type": "display_data"
    }
   ],
   "source": [
    "brasileirao_df.boxplot(column=\"J\")"
   ]
  },
  {
   "cell_type": "markdown",
   "metadata": {},
   "source": [
    "## Vitórias (V)"
   ]
  },
  {
   "cell_type": "code",
   "execution_count": 9,
   "metadata": {},
   "outputs": [
    {
     "name": "stdout",
     "output_type": "stream",
     "text": [
      "Média das Vitórias:  9.867796610169492\n",
      "Moda das Vitórias:  0    0\n",
      "dtype: int64\n",
      "Mediana das Vitórias:  10.0\n",
      "Variância das Vitórias:  39.42804104692725\n",
      "Desvio Padrão das Vitórias:  6.2791751884246105\n"
     ]
    }
   ],
   "source": [
    "Media = brasileirao_df[\"V\"].mean()\n",
    "Moda = brasileirao_df[\"V\"].mode()\n",
    "Mediana = brasileirao_df[\"V\"].median()\n",
    "Var = brasileirao_df[\"V\"].var()\n",
    "DP = brasileirao_df[\"V\"].var()**0.5\n",
    "print (\"Média das Vitórias: \", Media)\n",
    "print (\"Moda das Vitórias: \", Moda)\n",
    "print (\"Mediana das Vitórias: \", Mediana)\n",
    "print (\"Variância das Vitórias: \", Var)\n",
    "print (\"Desvio Padrão das Vitórias: \", DP)"
   ]
  },
  {
   "cell_type": "code",
   "execution_count": 10,
   "metadata": {},
   "outputs": [
    {
     "data": {
      "text/plain": [
       "<matplotlib.axes._subplots.AxesSubplot at 0x4c3adc0>"
      ]
     },
     "execution_count": 10,
     "metadata": {},
     "output_type": "execute_result"
    },
    {
     "data": {
      "image/png": "[encoded data removed]",
      "text/plain": [
       "<Figure size 432x288 with 1 Axes>"
      ]
     },
     "metadata": {
      "needs_background": "light"
     },
     "output_type": "display_data"
    }
   ],
   "source": [
    "brasileirao_df.boxplot(column=\"V\")"
   ]
  },
  {
   "cell_type": "markdown",
   "metadata": {},
   "source": [
    "## Empates (E)"
   ]
  },
  {
   "cell_type": "code",
   "execution_count": 11,
   "metadata": {},
   "outputs": [
    {
     "name": "stdout",
     "output_type": "stream",
     "text": [
      "Média dos Empates:  7.501694915254237\n",
      "Moda dos Empates:  0    9\n",
      "dtype: int64\n",
      "Mediana dos Empates:  8.0\n",
      "Variância dos Empates:  20.41411276374957\n",
      "Desvio Padrão dos Empates:  4.518197955352285\n"
     ]
    }
   ],
   "source": [
    "Media = brasileirao_df[\"E\"].mean()\n",
    "Moda = brasileirao_df[\"E\"].mode()\n",
    "Mediana = brasileirao_df[\"E\"].median()\n",
    "Var = brasileirao_df[\"E\"].var()\n",
    "DP = brasileirao_df[\"E\"].var()**0.5\n",
    "print (\"Média dos Empates: \", Media)\n",
    "print (\"Moda dos Empates: \", Moda)\n",
    "print (\"Mediana dos Empates: \", Mediana)\n",
    "print (\"Variância dos Empates: \", Var)\n",
    "print (\"Desvio Padrão dos Empates: \", DP)"
   ]
  },
  {
   "cell_type": "code",
   "execution_count": 12,
   "metadata": {},
   "outputs": [
    {
     "data": {
      "text/plain": [
       "<matplotlib.axes._subplots.AxesSubplot at 0x4c73e50>"
      ]
     },
     "execution_count": 12,
     "metadata": {},
     "output_type": "execute_result"
    },
    {
     "data": {
      "image/png": "[encoded data removed]",
      "text/plain": [
       "<Figure size 432x288 with 1 Axes>"
      ]
     },
     "metadata": {
      "needs_background": "light"
     },
     "output_type": "display_data"
    }
   ],
   "source": [
    "brasileirao_df.boxplot(column=\"E\")"
   ]
  },
  {
   "cell_type": "markdown",
   "metadata": {},
   "source": [
    "## Derrotas (D)"
   ]
  },
  {
   "cell_type": "code",
   "execution_count": 13,
   "metadata": {},
   "outputs": [
    {
     "name": "stdout",
     "output_type": "stream",
     "text": [
      "Média das Derrotas:  9.166101694915254\n",
      "Moda das Derrotas:  0    0\n",
      "dtype: int64\n",
      "Mediana das Derrotas:  9.0\n",
      "Variância das Derrotas:  39.370275567854264\n",
      "Desvio Padrão das Derrotas:  6.274573735948464\n"
     ]
    }
   ],
   "source": [
    "Media = brasileirao_df[\"D\"].mean()\n",
    "Moda = brasileirao_df[\"D\"].mode()\n",
    "Mediana = brasileirao_df[\"D\"].median()\n",
    "Var = brasileirao_df[\"D\"].var()\n",
    "DP = brasileirao_df[\"D\"].var()**0.5\n",
    "print (\"Média das Derrotas: \", Media)\n",
    "print (\"Moda das Derrotas: \", Moda)\n",
    "print (\"Mediana das Derrotas: \", Mediana)\n",
    "print (\"Variância das Derrotas: \", Var)\n",
    "print (\"Desvio Padrão das Derrotas: \", DP)"
   ]
  },
  {
   "cell_type": "code",
   "execution_count": 14,
   "metadata": {},
   "outputs": [
    {
     "data": {
      "text/plain": [
       "<matplotlib.axes._subplots.AxesSubplot at 0x4cad730>"
      ]
     },
     "execution_count": 14,
     "metadata": {},
     "output_type": "execute_result"
    },
    {
     "data": {
      "image/png": "[encoded data removed]",
      "text/plain": [
       "<Figure size 432x288 with 1 Axes>"
      ]
     },
     "metadata": {
      "needs_background": "light"
     },
     "output_type": "display_data"
    }
   ],
   "source": [
    "brasileirao_df.boxplot(column=\"D\")"
   ]
  },
  {
   "cell_type": "markdown",
   "metadata": {},
   "source": [
    "## Gols Pró (GP)"
   ]
  },
  {
   "cell_type": "code",
   "execution_count": 15,
   "metadata": {},
   "outputs": [
    {
     "name": "stdout",
     "output_type": "stream",
     "text": [
      "Média dos Gols Pró:  31.315254237288137\n",
      "Moda dos Gols Pró:  0    0\n",
      "dtype: int64\n",
      "Mediana dos Gols Pró:  34.0\n",
      "Variância dos Gols Pró:  336.7063991698375\n",
      "Desvio Padrão dos Gols Pró:  18.34956128003712\n"
     ]
    }
   ],
   "source": [
    "Media = brasileirao_df[\"GP\"].mean()\n",
    "Moda = brasileirao_df[\"GP\"].mode()\n",
    "Mediana = brasileirao_df[\"GP\"].median()\n",
    "Var = brasileirao_df[\"GP\"].var()\n",
    "DP = brasileirao_df[\"GP\"].var()**0.5\n",
    "print (\"Média dos Gols Pró: \", Media)\n",
    "print (\"Moda dos Gols Pró: \", Moda)\n",
    "print (\"Mediana dos Gols Pró: \", Mediana)\n",
    "print (\"Variância dos Gols Pró: \", Var)\n",
    "print (\"Desvio Padrão dos Gols Pró: \", DP)"
   ]
  },
  {
   "cell_type": "code",
   "execution_count": 16,
   "metadata": {},
   "outputs": [
    {
     "data": {
      "text/plain": [
       "<matplotlib.axes._subplots.AxesSubplot at 0xbb47cb8>"
      ]
     },
     "execution_count": 16,
     "metadata": {},
     "output_type": "execute_result"
    },
    {
     "data": {
      "image/png": "[encoded data removed]",
      "text/plain": [
       "<Figure size 432x288 with 1 Axes>"
      ]
     },
     "metadata": {
      "needs_background": "light"
     },
     "output_type": "display_data"
    }
   ],
   "source": [
    "brasileirao_df.boxplot(column=\"GP\")"
   ]
  },
  {
   "cell_type": "markdown",
   "metadata": {},
   "source": [
    "## Gols Contra (GC)"
   ]
  },
  {
   "cell_type": "code",
   "execution_count": 17,
   "metadata": {},
   "outputs": [
    {
     "name": "stdout",
     "output_type": "stream",
     "text": [
      "Média dos Gols Contra:  29.915254237288135\n",
      "Moda dos Gols Contra:  0    0\n",
      "dtype: int64\n",
      "Mediana dos Gols Contra:  33.0\n",
      "Variância dos Gols Contra:  330.52680733310274\n",
      "Desvio Padrão dos Gols Contra:  18.18039623696642\n"
     ]
    }
   ],
   "source": [
    "Media = brasileirao_df[\"GC\"].mean()\n",
    "Moda = brasileirao_df[\"GC\"].mode()\n",
    "Mediana = brasileirao_df[\"GC\"].median()\n",
    "Var = brasileirao_df[\"GC\"].var()\n",
    "DP = brasileirao_df[\"GC\"].var()**0.5\n",
    "print (\"Média dos Gols Contra: \", Media)\n",
    "print (\"Moda dos Gols Contra: \", Moda)\n",
    "print (\"Mediana dos Gols Contra: \", Mediana)\n",
    "print (\"Variância dos Gols Contra: \", Var)\n",
    "print (\"Desvio Padrão dos Gols Contra: \", DP)"
   ]
  },
  {
   "cell_type": "code",
   "execution_count": 18,
   "metadata": {},
   "outputs": [
    {
     "data": {
      "text/plain": [
       "<matplotlib.axes._subplots.AxesSubplot at 0xbb52f10>"
      ]
     },
     "execution_count": 18,
     "metadata": {},
     "output_type": "execute_result"
    },
    {
     "data": {
      "image/png": "[encoded data removed]",
      "text/plain": [
       "<Figure size 432x288 with 1 Axes>"
      ]
     },
     "metadata": {
      "needs_background": "light"
     },
     "output_type": "display_data"
    }
   ],
   "source": [
    "brasileirao_df.boxplot(column=\"GC\")"
   ]
  },
  {
   "cell_type": "markdown",
   "metadata": {},
   "source": [
    "## Saldo de Gols (SG)"
   ]
  },
  {
   "cell_type": "code",
   "execution_count": 19,
   "metadata": {},
   "outputs": [
    {
     "name": "stdout",
     "output_type": "stream",
     "text": [
      "Média do Saldo de Gols:  1.4\n",
      "Moda do Saldo de Gols:  0    0\n",
      "dtype: int64\n",
      "Mediana do Saldo de Gols:  1.0\n",
      "Variância do Saldo de Gols:  156.3292517006803\n",
      "Desvio Padrão do Saldo de Gols:  12.50316966615587\n"
     ]
    }
   ],
   "source": [
    "Media = brasileirao_df[\"SG\"].mean()\n",
    "Moda = brasileirao_df[\"SG\"].mode()\n",
    "Mediana = brasileirao_df[\"SG\"].median()\n",
    "Var = brasileirao_df[\"SG\"].var()\n",
    "DP = brasileirao_df[\"SG\"].var()**0.5\n",
    "print (\"Média do Saldo de Gols: \", Media)\n",
    "print (\"Moda do Saldo de Gols: \", Moda)\n",
    "print (\"Mediana do Saldo de Gols: \", Mediana)\n",
    "print (\"Variância do Saldo de Gols: \", Var)\n",
    "print (\"Desvio Padrão do Saldo de Gols: \", DP)"
   ]
  },
  {
   "cell_type": "code",
   "execution_count": 20,
   "metadata": {},
   "outputs": [
    {
     "data": {
      "text/plain": [
       "<matplotlib.axes._subplots.AxesSubplot at 0xbb8cdf0>"
      ]
     },
     "execution_count": 20,
     "metadata": {},
     "output_type": "execute_result"
    },
    {
     "data": {
      "image/png": "[encoded data removed]",
      "text/plain": [
       "<Figure size 432x288 with 1 Axes>"
      ]
     },
     "metadata": {
      "needs_background": "light"
     },
     "output_type": "display_data"
    }
   ],
   "source": [
    "brasileirao_df.boxplot(column=\"SG\")"
   ]
  },
  {
   "cell_type": "markdown",
   "metadata": {},
   "source": [
    "## Cartões Amarelos (CA)"
   ]
  },
  {
   "cell_type": "code",
   "execution_count": 21,
   "metadata": {},
   "outputs": [
    {
     "name": "stdout",
     "output_type": "stream",
     "text": [
      "Média dos Cartões Amarelos:  63.735593220338984\n",
      "Moda dos Cartões Amarelos:  0    0\n",
      "dtype: int64\n",
      "Mediana dos Cartões Amarelos:  77.0\n",
      "Variância dos Cartões Amarelos:  1221.7189669087975\n",
      "Desvio Padrão dos Cartões Amarelos:  34.9530966712364\n"
     ]
    }
   ],
   "source": [
    "Media = brasileirao_df[\"CA\"].mean()\n",
    "Moda = brasileirao_df[\"CA\"].mode()\n",
    "Mediana = brasileirao_df[\"CA\"].median()\n",
    "Var = brasileirao_df[\"CA\"].var()\n",
    "DP = brasileirao_df[\"CA\"].var()**0.5\n",
    "print (\"Média dos Cartões Amarelos: \", Media)\n",
    "print (\"Moda dos Cartões Amarelos: \", Moda)\n",
    "print (\"Mediana dos Cartões Amarelos: \", Mediana)\n",
    "print (\"Variância dos Cartões Amarelos: \", Var)\n",
    "print (\"Desvio Padrão dos Cartões Amarelos: \", DP)"
   ]
  },
  {
   "cell_type": "code",
   "execution_count": 22,
   "metadata": {},
   "outputs": [
    {
     "data": {
      "text/plain": [
       "<matplotlib.axes._subplots.AxesSubplot at 0xbbe9c28>"
      ]
     },
     "execution_count": 22,
     "metadata": {},
     "output_type": "execute_result"
    },
    {
     "data": {
      "image/png": "[encoded data removed]",
      "text/plain": [
       "<Figure size 432x288 with 1 Axes>"
      ]
     },
     "metadata": {
      "needs_background": "light"
     },
     "output_type": "display_data"
    }
   ],
   "source": [
    "brasileirao_df.boxplot(column=\"CA\")"
   ]
  },
  {
   "cell_type": "markdown",
   "metadata": {},
   "source": [
    "## Cartões Vermelhos (CV)"
   ]
  },
  {
   "cell_type": "code",
   "execution_count": 23,
   "metadata": {},
   "outputs": [
    {
     "name": "stdout",
     "output_type": "stream",
     "text": [
      "Média dos Cartões Vermelhos:  3.7796610169491527\n",
      "Moda dos Cartões Vermelhos:  0    2\n",
      "dtype: int64\n",
      "Mediana dos Cartões Vermelhos:  3.0\n",
      "Variância dos Cartões Vermelhos:  8.342442061570392\n",
      "Desvio Padrão dos Cartões Vermelhos:  2.88832859307427\n"
     ]
    }
   ],
   "source": [
    "Media = brasileirao_df[\"CV\"].mean()\n",
    "Moda = brasileirao_df[\"CV\"].mode()\n",
    "Mediana = brasileirao_df[\"CV\"].median()\n",
    "Var = brasileirao_df[\"CV\"].var()\n",
    "DP = brasileirao_df[\"CV\"].var()**0.5\n",
    "print (\"Média dos Cartões Vermelhos: \", Media)\n",
    "print (\"Moda dos Cartões Vermelhos: \", Moda)\n",
    "print (\"Mediana dos Cartões Vermelhos: \", Mediana)\n",
    "print (\"Variância dos Cartões Vermelhos: \", Var)\n",
    "print (\"Desvio Padrão dos Cartões Vermelhos: \", DP)"
   ]
  },
  {
   "cell_type": "code",
   "execution_count": 24,
   "metadata": {},
   "outputs": [
    {
     "data": {
      "text/plain": [
       "<matplotlib.axes._subplots.AxesSubplot at 0xbbe9b98>"
      ]
     },
     "execution_count": 24,
     "metadata": {},
     "output_type": "execute_result"
    },
    {
     "data": {
      "image/png": "[encoded data removed]",
      "text/plain": [
       "<Figure size 432x288 with 1 Axes>"
      ]
     },
     "metadata": {
      "needs_background": "light"
     },
     "output_type": "display_data"
    }
   ],
   "source": [
    "brasileirao_df.boxplot(column=\"CV\")"
   ]
  }
 ],
 "metadata": {
  "kernelspec": {
   "display_name": "Python 3",
   "language": "python",
   "name": "python3"
  },
  "language_info": {
   "codemirror_mode": {
    "name": "ipython",
    "version": 3
   },
   "file_extension": ".py",
   "mimetype": "text/x-python",
   "name": "python",
   "nbconvert_exporter": "python",
   "pygments_lexer": "ipython3",
   "version": "3.8.5"
  }
 },
 "nbformat": 4,
 "nbformat_minor": 4
}
